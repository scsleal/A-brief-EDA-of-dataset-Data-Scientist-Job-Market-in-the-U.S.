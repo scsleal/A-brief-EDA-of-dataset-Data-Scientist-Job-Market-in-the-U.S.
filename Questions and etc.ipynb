{
 "cells": [
  {
   "cell_type": "markdown",
   "id": "ba7d8623",
   "metadata": {},
   "source": [
    "# Questions:\n",
    "\n",
    "## position attribute\n",
    "\n",
    "1. What are the most used words in the positions\n",
    "2. What are the most common complemented words in the positions that has 'data scientist'?\n",
    "3. What is the distribution of positions based on their size ( number of words)?\n",
    "4. Positions has name of city/state? Analyze positions with York\n",
    "5. Positions with cloud platform names.\n",
    "6. Average word size"
   ]
  },
  {
   "cell_type": "markdown",
   "id": "2a8c88a3",
   "metadata": {},
   "source": [
    "## Answers\n",
    "\n",
    "2.\n",
    "   * Senior is the most common subcategory that follows data scientist position.\n",
    "   * The second and third subcategory are analytics and lead\n",
    "   * Most of the top 30 subcategories are related to higher hierarchies in staff: senior, lead, principal, manager, director,staff, etc.\n",
    "   * The words *learning* and *machine* are among the 10 most common\n",
    "   * marketing, service, product, language, natural, customer, financial, nlp are the most cited areas of expertise\n",
    "       * natural language/ nlp (natural language processing) is very required too.\n",
    "   * cognitive appears on the top 30 most common words that follows data scientist position\n",
    "   * the word **York** appears among the top 30. **To analyze**\n",
    "   * The top 30 distribution is similar to a exponential function.\n",
    "   \n",
    "   * On the word pairs, the most common pair is machine learning, follow by 2 pairs with senior word and 2 pairs related to nlp\n",
    "   \n",
    "   * Finally, about the trigrams, the most common trigram is natural language processing. Other top 30 trigrams are also related to this area.\n",
    "   * Many trigrams with senior word\n",
    "   * Azure (microsoft's cloud computing platform) appears in top 30 trigrams. **Question: Google cloud and AWS also appears among the positions?**\n",
    "   \n",
    "3.\n",
    "   * The most common positions have 3 words each, follow by positions with 4 and 2 words each. Suprisingly, the positions that have only one word is not so common as expected. These ones are as common as positions that use 10-11 words.\n",
    "   * Positions that use 15 or more words are more rare.\n",
    "   * On positions which use only one word, many of them are from areas unreleated to data science branch. The most common positions among them (and directly and indirectly related to data science) is Scientist, Statistician, Biostatistician and Analyst.\n",
    "   * The position that use most words (23 words) is: \"Program/Project Coordinator Opportunity - This is not a Technical IT role, but rather a support role for data analysis, system updates and reporting.\" (This is more a job title intead of position name)\n",
    "   * The other position that use various words (19) is: \"Tax Services Senior Analyst – National Tax – Fiduciary Trust Tax Services – Research & Technical Writing - Boston\"\n",
    "   \n",
    "4.\n",
    "  * Yes, the city names appears 152 among the positions. Assuming that each position name has a single city name, therefore only 152 positions use city names.\n",
    "  * The most common city name is Cambridge followed by New York, Boston and Seattle (all capitals). **Why?**\n",
    "  * I'm not sure Florida name is the state, not the city. (checked) \n",
    "  * (PS: not accurate, disregard) 160 positions have country acronyms (most of them --146 use US). Some positions use acronyms of other countries? **Check**\n",
    "      * **JP** acronym is related to JP Morgan\n",
    "  * One specific position mentions UK (country acronym)\n",
    "  * This is not a precise approach but gives a good idea of the distribution of city names in positions"
   ]
  },
  {
   "cell_type": "markdown",
   "id": "a8b81185",
   "metadata": {},
   "source": [
    "5.\n",
    "  * Positions related to *aws* are more common than those which have *google* or *azure* in their names. Only exists 8 positions with the word azure, whereas 'google' word is in 35 positions and 'aws/amazon' in 72."
   ]
  },
  {
   "cell_type": "code",
   "execution_count": null,
   "id": "0512fc38",
   "metadata": {},
   "outputs": [],
   "source": []
  }
 ],
 "metadata": {
  "kernelspec": {
   "display_name": "Python 3",
   "language": "python",
   "name": "python3"
  },
  "language_info": {
   "codemirror_mode": {
    "name": "ipython",
    "version": 3
   },
   "file_extension": ".py",
   "mimetype": "text/x-python",
   "name": "python",
   "nbconvert_exporter": "python",
   "pygments_lexer": "ipython3",
   "version": "3.7.10"
  }
 },
 "nbformat": 4,
 "nbformat_minor": 5
}
