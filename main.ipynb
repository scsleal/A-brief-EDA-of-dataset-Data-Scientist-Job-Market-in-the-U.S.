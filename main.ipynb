{
 "cells": [
  {
   "cell_type": "markdown",
   "source": [
    "# New Exploratory Data Analysis"
   ],
   "metadata": {}
  },
  {
   "cell_type": "code",
   "execution_count": 1,
   "source": [
    "import pandas as pd\r\n",
    "import seaborn as sns\r\n",
    "import matplotlib.pyplot as plt\r\n",
    "import numpy as np"
   ],
   "outputs": [],
   "metadata": {}
  },
  {
   "cell_type": "code",
   "execution_count": 2,
   "source": [
    "sns.set_theme()"
   ],
   "outputs": [],
   "metadata": {}
  },
  {
   "cell_type": "code",
   "execution_count": 3,
   "source": [
    "path = './data/alldata.csv'\r\n",
    "df = pd.read_csv(path)"
   ],
   "outputs": [],
   "metadata": {}
  },
  {
   "cell_type": "code",
   "execution_count": 4,
   "source": [
    "df.head()"
   ],
   "outputs": [
    {
     "output_type": "execute_result",
     "data": {
      "text/plain": [
       "                                            position             company  \\\n",
       "0                               Development Director             ALS TDI   \n",
       "1  An Ostentatiously-Excitable Principal Research...  The Hexagon Lavish   \n",
       "2                                     Data Scientist      Xpert Staffing   \n",
       "3                                       Data Analyst      Operation HOPE   \n",
       "4  Assistant Professor -TT - Signal Processing & ...    Emory University   \n",
       "\n",
       "                                         description  reviews  \\\n",
       "0  Development Director\\nALS Therapy Development ...      NaN   \n",
       "1  Job Description\\n\\n\"The road that leads to acc...      NaN   \n",
       "2  Growing company located in the Atlanta, GA are...      NaN   \n",
       "3  DEPARTMENT: Program OperationsPOSITION LOCATIO...     44.0   \n",
       "4  DESCRIPTION\\nThe Emory University Department o...    550.0   \n",
       "\n",
       "             location  \n",
       "0  Atlanta, GA 30301   \n",
       "1         Atlanta, GA  \n",
       "2         Atlanta, GA  \n",
       "3  Atlanta, GA 30303   \n",
       "4         Atlanta, GA  "
      ],
      "text/html": [
       "<div>\n",
       "<style scoped>\n",
       "    .dataframe tbody tr th:only-of-type {\n",
       "        vertical-align: middle;\n",
       "    }\n",
       "\n",
       "    .dataframe tbody tr th {\n",
       "        vertical-align: top;\n",
       "    }\n",
       "\n",
       "    .dataframe thead th {\n",
       "        text-align: right;\n",
       "    }\n",
       "</style>\n",
       "<table border=\"1\" class=\"dataframe\">\n",
       "  <thead>\n",
       "    <tr style=\"text-align: right;\">\n",
       "      <th></th>\n",
       "      <th>position</th>\n",
       "      <th>company</th>\n",
       "      <th>description</th>\n",
       "      <th>reviews</th>\n",
       "      <th>location</th>\n",
       "    </tr>\n",
       "  </thead>\n",
       "  <tbody>\n",
       "    <tr>\n",
       "      <th>0</th>\n",
       "      <td>Development Director</td>\n",
       "      <td>ALS TDI</td>\n",
       "      <td>Development Director\\nALS Therapy Development ...</td>\n",
       "      <td>NaN</td>\n",
       "      <td>Atlanta, GA 30301</td>\n",
       "    </tr>\n",
       "    <tr>\n",
       "      <th>1</th>\n",
       "      <td>An Ostentatiously-Excitable Principal Research...</td>\n",
       "      <td>The Hexagon Lavish</td>\n",
       "      <td>Job Description\\n\\n\"The road that leads to acc...</td>\n",
       "      <td>NaN</td>\n",
       "      <td>Atlanta, GA</td>\n",
       "    </tr>\n",
       "    <tr>\n",
       "      <th>2</th>\n",
       "      <td>Data Scientist</td>\n",
       "      <td>Xpert Staffing</td>\n",
       "      <td>Growing company located in the Atlanta, GA are...</td>\n",
       "      <td>NaN</td>\n",
       "      <td>Atlanta, GA</td>\n",
       "    </tr>\n",
       "    <tr>\n",
       "      <th>3</th>\n",
       "      <td>Data Analyst</td>\n",
       "      <td>Operation HOPE</td>\n",
       "      <td>DEPARTMENT: Program OperationsPOSITION LOCATIO...</td>\n",
       "      <td>44.0</td>\n",
       "      <td>Atlanta, GA 30303</td>\n",
       "    </tr>\n",
       "    <tr>\n",
       "      <th>4</th>\n",
       "      <td>Assistant Professor -TT - Signal Processing &amp; ...</td>\n",
       "      <td>Emory University</td>\n",
       "      <td>DESCRIPTION\\nThe Emory University Department o...</td>\n",
       "      <td>550.0</td>\n",
       "      <td>Atlanta, GA</td>\n",
       "    </tr>\n",
       "  </tbody>\n",
       "</table>\n",
       "</div>"
      ]
     },
     "metadata": {},
     "execution_count": 4
    }
   ],
   "metadata": {}
  },
  {
   "cell_type": "code",
   "execution_count": 5,
   "source": [
    "df.info()"
   ],
   "outputs": [
    {
     "output_type": "stream",
     "name": "stdout",
     "text": [
      "<class 'pandas.core.frame.DataFrame'>\n",
      "RangeIndex: 6964 entries, 0 to 6963\n",
      "Data columns (total 5 columns):\n",
      " #   Column       Non-Null Count  Dtype  \n",
      "---  ------       --------------  -----  \n",
      " 0   position     6953 non-null   object \n",
      " 1   company      6953 non-null   object \n",
      " 2   description  6953 non-null   object \n",
      " 3   reviews      5326 non-null   float64\n",
      " 4   location     6953 non-null   object \n",
      "dtypes: float64(1), object(4)\n",
      "memory usage: 272.2+ KB\n"
     ]
    }
   ],
   "metadata": {}
  },
  {
   "cell_type": "code",
   "execution_count": 6,
   "source": [
    "df.describe(include='all')"
   ],
   "outputs": [
    {
     "output_type": "execute_result",
     "data": {
      "text/plain": [
       "              position     company  \\\n",
       "count             6953        6953   \n",
       "unique            5242        2213   \n",
       "top     Data Scientist  Amazon.com   \n",
       "freq               351         358   \n",
       "mean               NaN         NaN   \n",
       "std                NaN         NaN   \n",
       "min                NaN         NaN   \n",
       "25%                NaN         NaN   \n",
       "50%                NaN         NaN   \n",
       "75%                NaN         NaN   \n",
       "max                NaN         NaN   \n",
       "\n",
       "                                              description        reviews  \\\n",
       "count                                                6953    5326.000000   \n",
       "unique                                               6708            NaN   \n",
       "top     Note: By applying to this position your applic...            NaN   \n",
       "freq                                                    9            NaN   \n",
       "mean                                                  NaN    3179.089185   \n",
       "std                                                   NaN    8448.515056   \n",
       "min                                                   NaN       2.000000   \n",
       "25%                                                   NaN      27.000000   \n",
       "50%                                                   NaN     230.000000   \n",
       "75%                                                   NaN    1578.000000   \n",
       "max                                                   NaN  148114.000000   \n",
       "\n",
       "           location  \n",
       "count          6953  \n",
       "unique          382  \n",
       "top     Seattle, WA  \n",
       "freq            563  \n",
       "mean            NaN  \n",
       "std             NaN  \n",
       "min             NaN  \n",
       "25%             NaN  \n",
       "50%             NaN  \n",
       "75%             NaN  \n",
       "max             NaN  "
      ],
      "text/html": [
       "<div>\n",
       "<style scoped>\n",
       "    .dataframe tbody tr th:only-of-type {\n",
       "        vertical-align: middle;\n",
       "    }\n",
       "\n",
       "    .dataframe tbody tr th {\n",
       "        vertical-align: top;\n",
       "    }\n",
       "\n",
       "    .dataframe thead th {\n",
       "        text-align: right;\n",
       "    }\n",
       "</style>\n",
       "<table border=\"1\" class=\"dataframe\">\n",
       "  <thead>\n",
       "    <tr style=\"text-align: right;\">\n",
       "      <th></th>\n",
       "      <th>position</th>\n",
       "      <th>company</th>\n",
       "      <th>description</th>\n",
       "      <th>reviews</th>\n",
       "      <th>location</th>\n",
       "    </tr>\n",
       "  </thead>\n",
       "  <tbody>\n",
       "    <tr>\n",
       "      <th>count</th>\n",
       "      <td>6953</td>\n",
       "      <td>6953</td>\n",
       "      <td>6953</td>\n",
       "      <td>5326.000000</td>\n",
       "      <td>6953</td>\n",
       "    </tr>\n",
       "    <tr>\n",
       "      <th>unique</th>\n",
       "      <td>5242</td>\n",
       "      <td>2213</td>\n",
       "      <td>6708</td>\n",
       "      <td>NaN</td>\n",
       "      <td>382</td>\n",
       "    </tr>\n",
       "    <tr>\n",
       "      <th>top</th>\n",
       "      <td>Data Scientist</td>\n",
       "      <td>Amazon.com</td>\n",
       "      <td>Note: By applying to this position your applic...</td>\n",
       "      <td>NaN</td>\n",
       "      <td>Seattle, WA</td>\n",
       "    </tr>\n",
       "    <tr>\n",
       "      <th>freq</th>\n",
       "      <td>351</td>\n",
       "      <td>358</td>\n",
       "      <td>9</td>\n",
       "      <td>NaN</td>\n",
       "      <td>563</td>\n",
       "    </tr>\n",
       "    <tr>\n",
       "      <th>mean</th>\n",
       "      <td>NaN</td>\n",
       "      <td>NaN</td>\n",
       "      <td>NaN</td>\n",
       "      <td>3179.089185</td>\n",
       "      <td>NaN</td>\n",
       "    </tr>\n",
       "    <tr>\n",
       "      <th>std</th>\n",
       "      <td>NaN</td>\n",
       "      <td>NaN</td>\n",
       "      <td>NaN</td>\n",
       "      <td>8448.515056</td>\n",
       "      <td>NaN</td>\n",
       "    </tr>\n",
       "    <tr>\n",
       "      <th>min</th>\n",
       "      <td>NaN</td>\n",
       "      <td>NaN</td>\n",
       "      <td>NaN</td>\n",
       "      <td>2.000000</td>\n",
       "      <td>NaN</td>\n",
       "    </tr>\n",
       "    <tr>\n",
       "      <th>25%</th>\n",
       "      <td>NaN</td>\n",
       "      <td>NaN</td>\n",
       "      <td>NaN</td>\n",
       "      <td>27.000000</td>\n",
       "      <td>NaN</td>\n",
       "    </tr>\n",
       "    <tr>\n",
       "      <th>50%</th>\n",
       "      <td>NaN</td>\n",
       "      <td>NaN</td>\n",
       "      <td>NaN</td>\n",
       "      <td>230.000000</td>\n",
       "      <td>NaN</td>\n",
       "    </tr>\n",
       "    <tr>\n",
       "      <th>75%</th>\n",
       "      <td>NaN</td>\n",
       "      <td>NaN</td>\n",
       "      <td>NaN</td>\n",
       "      <td>1578.000000</td>\n",
       "      <td>NaN</td>\n",
       "    </tr>\n",
       "    <tr>\n",
       "      <th>max</th>\n",
       "      <td>NaN</td>\n",
       "      <td>NaN</td>\n",
       "      <td>NaN</td>\n",
       "      <td>148114.000000</td>\n",
       "      <td>NaN</td>\n",
       "    </tr>\n",
       "  </tbody>\n",
       "</table>\n",
       "</div>"
      ]
     },
     "metadata": {},
     "execution_count": 6
    }
   ],
   "metadata": {}
  },
  {
   "cell_type": "markdown",
   "source": [
    "# Old Exploratory Data Analysis"
   ],
   "metadata": {}
  },
  {
   "cell_type": "code",
   "execution_count": 1,
   "source": [
    "import pandas as pd\r\n",
    "import seaborn as sns\r\n",
    "import matplotlib.pyplot as plt\r\n",
    "import numpy as np"
   ],
   "outputs": [],
   "metadata": {}
  },
  {
   "cell_type": "code",
   "execution_count": 2,
   "source": [
    "sns.set_theme()"
   ],
   "outputs": [],
   "metadata": {}
  },
  {
   "cell_type": "code",
   "execution_count": 3,
   "source": [
    "path = './data/alldata.csv'\r\n",
    "df = pd.read_csv(path)"
   ],
   "outputs": [],
   "metadata": {}
  },
  {
   "cell_type": "code",
   "execution_count": 8,
   "source": [
    "df.info(memory_usage='deep')"
   ],
   "outputs": [
    {
     "output_type": "stream",
     "name": "stdout",
     "text": [
      "<class 'pandas.core.frame.DataFrame'>\n",
      "RangeIndex: 6964 entries, 0 to 6963\n",
      "Data columns (total 5 columns):\n",
      " #   Column       Non-Null Count  Dtype  \n",
      "---  ------       --------------  -----  \n",
      " 0   position     6953 non-null   object \n",
      " 1   company      6953 non-null   object \n",
      " 2   description  6953 non-null   object \n",
      " 3   reviews      5326 non-null   float64\n",
      " 4   location     6953 non-null   object \n",
      "dtypes: float64(1), object(4)\n",
      "memory usage: 47.8 MB\n"
     ]
    }
   ],
   "metadata": {}
  },
  {
   "cell_type": "code",
   "execution_count": 7,
   "source": [
    "df.describe(include='all')"
   ],
   "outputs": [
    {
     "output_type": "execute_result",
     "data": {
      "text/plain": [
       "              position     company  \\\n",
       "count             6953        6953   \n",
       "unique            5242        2213   \n",
       "top     Data Scientist  Amazon.com   \n",
       "freq               351         358   \n",
       "mean               NaN         NaN   \n",
       "std                NaN         NaN   \n",
       "min                NaN         NaN   \n",
       "25%                NaN         NaN   \n",
       "50%                NaN         NaN   \n",
       "75%                NaN         NaN   \n",
       "max                NaN         NaN   \n",
       "\n",
       "                                              description        reviews  \\\n",
       "count                                                6953    5326.000000   \n",
       "unique                                               6708            NaN   \n",
       "top     Note: By applying to this position your applic...            NaN   \n",
       "freq                                                    9            NaN   \n",
       "mean                                                  NaN    3179.089185   \n",
       "std                                                   NaN    8448.515056   \n",
       "min                                                   NaN       2.000000   \n",
       "25%                                                   NaN      27.000000   \n",
       "50%                                                   NaN     230.000000   \n",
       "75%                                                   NaN    1578.000000   \n",
       "max                                                   NaN  148114.000000   \n",
       "\n",
       "           location  \n",
       "count          6953  \n",
       "unique          382  \n",
       "top     Seattle, WA  \n",
       "freq            563  \n",
       "mean            NaN  \n",
       "std             NaN  \n",
       "min             NaN  \n",
       "25%             NaN  \n",
       "50%             NaN  \n",
       "75%             NaN  \n",
       "max             NaN  "
      ],
      "text/html": [
       "<div>\n",
       "<style scoped>\n",
       "    .dataframe tbody tr th:only-of-type {\n",
       "        vertical-align: middle;\n",
       "    }\n",
       "\n",
       "    .dataframe tbody tr th {\n",
       "        vertical-align: top;\n",
       "    }\n",
       "\n",
       "    .dataframe thead th {\n",
       "        text-align: right;\n",
       "    }\n",
       "</style>\n",
       "<table border=\"1\" class=\"dataframe\">\n",
       "  <thead>\n",
       "    <tr style=\"text-align: right;\">\n",
       "      <th></th>\n",
       "      <th>position</th>\n",
       "      <th>company</th>\n",
       "      <th>description</th>\n",
       "      <th>reviews</th>\n",
       "      <th>location</th>\n",
       "    </tr>\n",
       "  </thead>\n",
       "  <tbody>\n",
       "    <tr>\n",
       "      <th>count</th>\n",
       "      <td>6953</td>\n",
       "      <td>6953</td>\n",
       "      <td>6953</td>\n",
       "      <td>5326.000000</td>\n",
       "      <td>6953</td>\n",
       "    </tr>\n",
       "    <tr>\n",
       "      <th>unique</th>\n",
       "      <td>5242</td>\n",
       "      <td>2213</td>\n",
       "      <td>6708</td>\n",
       "      <td>NaN</td>\n",
       "      <td>382</td>\n",
       "    </tr>\n",
       "    <tr>\n",
       "      <th>top</th>\n",
       "      <td>Data Scientist</td>\n",
       "      <td>Amazon.com</td>\n",
       "      <td>Note: By applying to this position your applic...</td>\n",
       "      <td>NaN</td>\n",
       "      <td>Seattle, WA</td>\n",
       "    </tr>\n",
       "    <tr>\n",
       "      <th>freq</th>\n",
       "      <td>351</td>\n",
       "      <td>358</td>\n",
       "      <td>9</td>\n",
       "      <td>NaN</td>\n",
       "      <td>563</td>\n",
       "    </tr>\n",
       "    <tr>\n",
       "      <th>mean</th>\n",
       "      <td>NaN</td>\n",
       "      <td>NaN</td>\n",
       "      <td>NaN</td>\n",
       "      <td>3179.089185</td>\n",
       "      <td>NaN</td>\n",
       "    </tr>\n",
       "    <tr>\n",
       "      <th>std</th>\n",
       "      <td>NaN</td>\n",
       "      <td>NaN</td>\n",
       "      <td>NaN</td>\n",
       "      <td>8448.515056</td>\n",
       "      <td>NaN</td>\n",
       "    </tr>\n",
       "    <tr>\n",
       "      <th>min</th>\n",
       "      <td>NaN</td>\n",
       "      <td>NaN</td>\n",
       "      <td>NaN</td>\n",
       "      <td>2.000000</td>\n",
       "      <td>NaN</td>\n",
       "    </tr>\n",
       "    <tr>\n",
       "      <th>25%</th>\n",
       "      <td>NaN</td>\n",
       "      <td>NaN</td>\n",
       "      <td>NaN</td>\n",
       "      <td>27.000000</td>\n",
       "      <td>NaN</td>\n",
       "    </tr>\n",
       "    <tr>\n",
       "      <th>50%</th>\n",
       "      <td>NaN</td>\n",
       "      <td>NaN</td>\n",
       "      <td>NaN</td>\n",
       "      <td>230.000000</td>\n",
       "      <td>NaN</td>\n",
       "    </tr>\n",
       "    <tr>\n",
       "      <th>75%</th>\n",
       "      <td>NaN</td>\n",
       "      <td>NaN</td>\n",
       "      <td>NaN</td>\n",
       "      <td>1578.000000</td>\n",
       "      <td>NaN</td>\n",
       "    </tr>\n",
       "    <tr>\n",
       "      <th>max</th>\n",
       "      <td>NaN</td>\n",
       "      <td>NaN</td>\n",
       "      <td>NaN</td>\n",
       "      <td>148114.000000</td>\n",
       "      <td>NaN</td>\n",
       "    </tr>\n",
       "  </tbody>\n",
       "</table>\n",
       "</div>"
      ]
     },
     "metadata": {},
     "execution_count": 7
    }
   ],
   "metadata": {}
  },
  {
   "cell_type": "code",
   "execution_count": 6,
   "source": [
    "df.info()"
   ],
   "outputs": [
    {
     "output_type": "stream",
     "name": "stdout",
     "text": [
      "<class 'pandas.core.frame.DataFrame'>\n",
      "RangeIndex: 6964 entries, 0 to 6963\n",
      "Data columns (total 5 columns):\n",
      " #   Column       Non-Null Count  Dtype  \n",
      "---  ------       --------------  -----  \n",
      " 0   position     6953 non-null   object \n",
      " 1   company      6953 non-null   object \n",
      " 2   description  6953 non-null   object \n",
      " 3   reviews      5326 non-null   float64\n",
      " 4   location     6953 non-null   object \n",
      "dtypes: float64(1), object(4)\n",
      "memory usage: 272.2+ KB\n"
     ]
    }
   ],
   "metadata": {}
  },
  {
   "cell_type": "markdown",
   "source": [
    "# Exploring *position* attribute\\field"
   ],
   "metadata": {}
  },
  {
   "cell_type": "code",
   "execution_count": 10,
   "source": [
    "df['position'].unique()"
   ],
   "outputs": [
    {
     "output_type": "execute_result",
     "data": {
      "text/plain": [
       "array(['Development Director',\n",
       "       'An Ostentatiously-Excitable Principal Research Assistant to Chief Scientist',\n",
       "       'Data Scientist', ..., 'Data Developer / Machine Learning Analyst',\n",
       "       'Intern Scientist', 'Principal Data Scientist, Deep Learning'],\n",
       "      dtype=object)"
      ]
     },
     "metadata": {},
     "execution_count": 10
    }
   ],
   "metadata": {}
  },
  {
   "cell_type": "code",
   "execution_count": 191,
   "source": [
    "a = df['position'].value_counts()\r\n",
    "b = df['position'].value_counts()/df.shape[0]*100\r\n",
    "b.name = 'position (%)'\r\n",
    "pd.concat([a,b],axis=1)"
   ],
   "outputs": [
    {
     "output_type": "execute_result",
     "data": {
      "text/plain": [
       "                                                    position  position (%)\n",
       "Data Scientist                                           351      5.040207\n",
       "Senior Data Scientist                                     96      1.378518\n",
       "Research Analyst                                          64      0.919012\n",
       "Data Engineer                                             60      0.861574\n",
       "Machine Learning Engineer                                 56      0.804136\n",
       "...                                                      ...           ...\n",
       "Academic Program Management Officer 4                      1      0.014360\n",
       "Associate Scientist I, Veterinary Services                 1      0.014360\n",
       "Lead Data Analyst - Digital Test and Measurement           1      0.014360\n",
       "Lecturer - Sutardja Center for Entrepreneurship...         1      0.014360\n",
       "CDx Sr. Scientist                                          1      0.014360\n",
       "\n",
       "[5242 rows x 2 columns]"
      ],
      "text/html": [
       "<div>\n",
       "<style scoped>\n",
       "    .dataframe tbody tr th:only-of-type {\n",
       "        vertical-align: middle;\n",
       "    }\n",
       "\n",
       "    .dataframe tbody tr th {\n",
       "        vertical-align: top;\n",
       "    }\n",
       "\n",
       "    .dataframe thead th {\n",
       "        text-align: right;\n",
       "    }\n",
       "</style>\n",
       "<table border=\"1\" class=\"dataframe\">\n",
       "  <thead>\n",
       "    <tr style=\"text-align: right;\">\n",
       "      <th></th>\n",
       "      <th>position</th>\n",
       "      <th>position (%)</th>\n",
       "    </tr>\n",
       "  </thead>\n",
       "  <tbody>\n",
       "    <tr>\n",
       "      <th>Data Scientist</th>\n",
       "      <td>351</td>\n",
       "      <td>5.040207</td>\n",
       "    </tr>\n",
       "    <tr>\n",
       "      <th>Senior Data Scientist</th>\n",
       "      <td>96</td>\n",
       "      <td>1.378518</td>\n",
       "    </tr>\n",
       "    <tr>\n",
       "      <th>Research Analyst</th>\n",
       "      <td>64</td>\n",
       "      <td>0.919012</td>\n",
       "    </tr>\n",
       "    <tr>\n",
       "      <th>Data Engineer</th>\n",
       "      <td>60</td>\n",
       "      <td>0.861574</td>\n",
       "    </tr>\n",
       "    <tr>\n",
       "      <th>Machine Learning Engineer</th>\n",
       "      <td>56</td>\n",
       "      <td>0.804136</td>\n",
       "    </tr>\n",
       "    <tr>\n",
       "      <th>...</th>\n",
       "      <td>...</td>\n",
       "      <td>...</td>\n",
       "    </tr>\n",
       "    <tr>\n",
       "      <th>Academic Program Management Officer 4</th>\n",
       "      <td>1</td>\n",
       "      <td>0.014360</td>\n",
       "    </tr>\n",
       "    <tr>\n",
       "      <th>Associate Scientist I, Veterinary Services</th>\n",
       "      <td>1</td>\n",
       "      <td>0.014360</td>\n",
       "    </tr>\n",
       "    <tr>\n",
       "      <th>Lead Data Analyst - Digital Test and Measurement</th>\n",
       "      <td>1</td>\n",
       "      <td>0.014360</td>\n",
       "    </tr>\n",
       "    <tr>\n",
       "      <th>Lecturer - Sutardja Center for Entrepreneurship &amp; Technology</th>\n",
       "      <td>1</td>\n",
       "      <td>0.014360</td>\n",
       "    </tr>\n",
       "    <tr>\n",
       "      <th>CDx Sr. Scientist</th>\n",
       "      <td>1</td>\n",
       "      <td>0.014360</td>\n",
       "    </tr>\n",
       "  </tbody>\n",
       "</table>\n",
       "<p>5242 rows × 2 columns</p>\n",
       "</div>"
      ]
     },
     "metadata": {},
     "execution_count": 191
    }
   ],
   "metadata": {}
  },
  {
   "cell_type": "code",
   "execution_count": 193,
   "source": [
    "positions = df['position'].value_counts()\r\n",
    "top10_positions = df['position'].value_counts().head(20)\r\n",
    "plt.subplots(figsize=(10,6))\r\n",
    "sns.barplot(x=top10_positions.values, y=top10_positions.index, orient='h', color='b');"
   ],
   "outputs": [
    {
     "output_type": "display_data",
     "data": {
      "text/plain": [
       "<Figure size 720x432 with 1 Axes>"
      ],
      "image/png": "[encoded data removed]"
     },
     "metadata": {}
    }
   ],
   "metadata": {
    "scrolled": false
   }
  },
  {
   "cell_type": "markdown",
   "source": [
    "# Main approach for word count"
   ],
   "metadata": {}
  },
  {
   "cell_type": "code",
   "execution_count": 194,
   "source": [
    "from nltk.corpus import stopwords\r\n",
    "from nltk.tokenize import word_tokenize\r\n",
    "from nltk.stem import WordNetLemmatizer\r\n",
    "from nltk import ngrams\r\n",
    "from collections import Counter"
   ],
   "outputs": [],
   "metadata": {}
  },
  {
   "cell_type": "code",
   "execution_count": 210,
   "source": [
    "def word_frequency(sentence):\r\n",
    "    sentence = \" \".join(sentence)\r\n",
    "    \r\n",
    "    new_tokens = word_tokenize(sentence)\r\n",
    "    new_tokens = [t.lower() for t in new_tokens]\r\n",
    "    new_tokens = [t for t in new_tokens if t not in stopwords.words('english')]\r\n",
    "    new_tokens = [t for t in new_tokens if t.isalpha()]\r\n",
    "    lemmatizer = WordNetLemmatizer()\r\n",
    "    new_tokens = [lemmatizer.lemmatize(t) for t in new_tokens]\r\n",
    "    \r\n",
    "    counted_list = [Counter(ngrams(new_tokens, x)) for x in [1,2,3]]\r\n",
    "    col_names = ['word', 'pairs', 'trigrams']\r\n",
    "    df_list = []\r\n",
    "    for counted, name in zip(counted_list, col_names):\r\n",
    "        df = pd.DataFrame(counted.items(), columns=[name,'frequency'])\r\n",
    "        df.sort_values(by='frequency',ascending=False,inplace=True)\r\n",
    "        df_list.append(df)\r\n",
    "        \r\n",
    "    word_freq = df_list[0] \r\n",
    "    word_pairs = df_list[1]\r\n",
    "    trigrams = df_list[2]\r\n",
    "    \r\n",
    "    return word_freq, word_pairs, trigrams"
   ],
   "outputs": [],
   "metadata": {}
  },
  {
   "cell_type": "code",
   "execution_count": 270,
   "source": [
    "data2, data3, data4 = word_frequency([str(x) for x in list(df['position'])])"
   ],
   "outputs": [],
   "metadata": {}
  },
  {
   "cell_type": "code",
   "execution_count": 212,
   "source": [
    "# create subplot of the different data frames\r\n",
    "fig, axes = plt.subplots(3,1,figsize=(8,20))\r\n",
    "sns.barplot(ax=axes[0],x='frequency',y='word',data=data2.head(30))\r\n",
    "sns.barplot(ax=axes[1],x='frequency',y='pairs',data=data3.head(30))\r\n",
    "sns.barplot(ax=axes[2],x='frequency',y='trigrams',data=data4.head(30))"
   ],
   "outputs": [
    {
     "output_type": "execute_result",
     "data": {
      "text/plain": [
       "<AxesSubplot:xlabel='frequency', ylabel='trigrams'>"
      ]
     },
     "metadata": {},
     "execution_count": 212
    },
    {
     "output_type": "display_data",
     "data": {
      "text/plain": [
       "<Figure size 576x1440 with 3 Axes>"
      ],
      "image/png": "[encoded data removed]"
     },
     "metadata": {}
    }
   ],
   "metadata": {}
  },
  {
   "cell_type": "code",
   "execution_count": 271,
   "source": [
    "data3.pairs.reset_index(drop=True,inplace=True)"
   ],
   "outputs": [],
   "metadata": {}
  },
  {
   "cell_type": "code",
   "execution_count": 272,
   "source": [
    "data_test = data3.copy()"
   ],
   "outputs": [],
   "metadata": {}
  },
  {
   "cell_type": "code",
   "execution_count": 273,
   "source": [
    "foo = lambda x: tuple(sorted(x))"
   ],
   "outputs": [],
   "metadata": {}
  },
  {
   "cell_type": "code",
   "execution_count": 274,
   "source": [
    "data_test['pairs'] = data_test['pairs'].apply(foo)"
   ],
   "outputs": [],
   "metadata": {}
  },
  {
   "cell_type": "code",
   "execution_count": 281,
   "source": [
    "# data3.groupby('pairs').sum()\r\n",
    "data_test = data_test.groupby('pairs').sum().reset_index().sort_values(by='frequency', ascending=False)"
   ],
   "outputs": [],
   "metadata": {}
  },
  {
   "cell_type": "code",
   "execution_count": 286,
   "source": [
    "plt.subplots(figsize=(10,8))\r\n",
    "sns.barplot(data=data_test.head(30), x='frequency', y='pairs')\r\n"
   ],
   "outputs": [
    {
     "output_type": "execute_result",
     "data": {
      "text/plain": [
       "<AxesSubplot:xlabel='frequency', ylabel='pairs'>"
      ]
     },
     "metadata": {},
     "execution_count": 286
    },
    {
     "output_type": "display_data",
     "data": {
      "text/plain": [
       "<Figure size 720x576 with 1 Axes>"
      ],
      "image/png": "[encoded data removed]"
     },
     "metadata": {}
    }
   ],
   "metadata": {}
  },
  {
   "cell_type": "markdown",
   "source": [
    "## 2. What are the most common complemented words in the positions that has 'data scientist'?"
   ],
   "metadata": {}
  },
  {
   "cell_type": "code",
   "execution_count": 325,
   "source": [
    "df['position']"
   ],
   "outputs": [
    {
     "output_type": "execute_result",
     "data": {
      "text/plain": [
       "0                                    Development Director\n",
       "1       An Ostentatiously-Excitable Principal Research...\n",
       "2                                          Data Scientist\n",
       "3                                            Data Analyst\n",
       "4       Assistant Professor -TT - Signal Processing & ...\n",
       "                              ...                        \n",
       "6959            Data Developer / Machine Learning Analyst\n",
       "6960                                          Scientist I\n",
       "6961                                     Intern Scientist\n",
       "6962                      Senior Data & Applied Scientist\n",
       "6963              Principal Data Scientist, Deep Learning\n",
       "Name: position, Length: 6964, dtype: object"
      ]
     },
     "metadata": {},
     "execution_count": 325
    }
   ],
   "metadata": {}
  },
  {
   "cell_type": "code",
   "execution_count": 330,
   "source": [
    "df['position'].value_counts()"
   ],
   "outputs": [
    {
     "output_type": "execute_result",
     "data": {
      "text/plain": [
       "Data Scientist                                                  351\n",
       "Senior Data Scientist                                            96\n",
       "Research Analyst                                                 64\n",
       "Data Engineer                                                    60\n",
       "Machine Learning Engineer                                        56\n",
       "                                                               ... \n",
       "Academic Program Management Officer 4                             1\n",
       "Associate Scientist I, Veterinary Services                        1\n",
       "Lead Data Analyst - Digital Test and Measurement                  1\n",
       "Lecturer - Sutardja Center for Entrepreneurship & Technology      1\n",
       "CDx Sr. Scientist                                                 1\n",
       "Name: position, Length: 5242, dtype: int64"
      ]
     },
     "metadata": {},
     "execution_count": 330
    }
   ],
   "metadata": {}
  },
  {
   "cell_type": "code",
   "execution_count": 332,
   "source": [
    "data_scientist = df[df['position'].apply(lambda x: 'data scientist' in str(x).lower())].copy()"
   ],
   "outputs": [],
   "metadata": {}
  },
  {
   "cell_type": "code",
   "execution_count": 333,
   "source": [
    "data_scientist['position'].value_counts()"
   ],
   "outputs": [
    {
     "output_type": "execute_result",
     "data": {
      "text/plain": [
       "Data Scientist                                                                            351\n",
       "Senior Data Scientist                                                                      96\n",
       "Lead Data Scientist                                                                        31\n",
       "Sr. Data Scientist                                                                         28\n",
       "Principal Data Scientist                                                                   24\n",
       "                                                                                         ... \n",
       "Data Scientist / Engineer (medical diagnostic startup)                                      1\n",
       "Data Scientist / Lead Quantitative Analyst                                                  1\n",
       "Data Scientist, Marketing Analytics, Web Analytics & Experimentation                        1\n",
       "Principal Data Scientist(Clinical Data/EMR/NLP/Deep Learning)-PS10509                       1\n",
       "Emergency Preparedness Data Scientist, Bureau of Environmental Surveillance and Policy      1\n",
       "Name: position, Length: 605, dtype: int64"
      ]
     },
     "metadata": {},
     "execution_count": 333
    }
   ],
   "metadata": {}
  },
  {
   "cell_type": "code",
   "execution_count": 342,
   "source": [
    "data_sci2 = data_scientist['position'].apply(lambda x: str(x).lower().replace('data scientist', ' ')).copy()"
   ],
   "outputs": [],
   "metadata": {}
  },
  {
   "cell_type": "code",
   "execution_count": 343,
   "source": [
    "data_sci2"
   ],
   "outputs": [
    {
     "output_type": "execute_result",
     "data": {
      "text/plain": [
       "2                                                        \n",
       "9       senior associate - cognitive   natural languag...\n",
       "12                                    senior associate,  \n",
       "15                                                       \n",
       "18                                                       \n",
       "                              ...                        \n",
       "6949       systems software performance   sunnyvale/china\n",
       "6951                                         lead   - nlp\n",
       "6957                                     lead   - haskell\n",
       "6958                                  senior   (gec11902)\n",
       "6963                           principal  , deep learning\n",
       "Name: position, Length: 1261, dtype: object"
      ]
     },
     "metadata": {},
     "execution_count": 343
    }
   ],
   "metadata": {
    "collapsed": true
   }
  },
  {
   "cell_type": "code",
   "execution_count": 344,
   "source": [
    "data2, data3, data4 = word_frequency([str(x) for x in list(data_sci2)])"
   ],
   "outputs": [],
   "metadata": {}
  },
  {
   "cell_type": "code",
   "execution_count": 345,
   "source": [
    "# create subplot of the different data frames\r\n",
    "fig, axes = plt.subplots(3,1,figsize=(8,20))\r\n",
    "sns.barplot(ax=axes[0],x='frequency',y='word',data=data2.head(30))\r\n",
    "sns.barplot(ax=axes[1],x='frequency',y='pairs',data=data3.head(30))\r\n",
    "sns.barplot(ax=axes[2],x='frequency',y='trigrams',data=data4.head(30))"
   ],
   "outputs": [
    {
     "output_type": "execute_result",
     "data": {
      "text/plain": [
       "<AxesSubplot:xlabel='frequency', ylabel='trigrams'>"
      ]
     },
     "metadata": {},
     "execution_count": 345
    },
    {
     "output_type": "display_data",
     "data": {
      "text/plain": [
       "<Figure size 576x1440 with 3 Axes>"
      ],
      "image/png": "[encoded data removed]"
     },
     "metadata": {}
    }
   ],
   "metadata": {}
  },
  {
   "cell_type": "markdown",
   "source": [
    "## 3. What is the distribution of positions based on their size ( number of words)?"
   ],
   "metadata": {}
  },
  {
   "cell_type": "code",
   "execution_count": 353,
   "source": [
    "df['position'].apply(lambda x: len(str(x).split())).value_counts()"
   ],
   "outputs": [
    {
     "output_type": "execute_result",
     "data": {
      "text/plain": [
       "3     1723\n",
       "4     1246\n",
       "2     1169\n",
       "5      994\n",
       "6      683\n",
       "7      416\n",
       "8      243\n",
       "9      174\n",
       "10      88\n",
       "1       78\n",
       "11      43\n",
       "12      42\n",
       "13      27\n",
       "14      21\n",
       "15       8\n",
       "17       3\n",
       "18       2\n",
       "16       1\n",
       "22       1\n",
       "19       1\n",
       "23       1\n",
       "Name: position, dtype: int64"
      ]
     },
     "metadata": {},
     "execution_count": 353
    }
   ],
   "metadata": {}
  },
  {
   "cell_type": "code",
   "execution_count": 356,
   "source": [
    "df[df['position'].apply(lambda x: len(str(x).split()) == 1)]['position'].value_counts()"
   ],
   "outputs": [
    {
     "output_type": "execute_result",
     "data": {
      "text/plain": [
       "Scientist                 17\n",
       "Statistician               5\n",
       "Biostatistician            4\n",
       "Analyst                    3\n",
       "Immunologist               3\n",
       "Pharmacometrician          2\n",
       "Recruiter                  2\n",
       "Toxicologist               2\n",
       "Researcher                 2\n",
       "Director                   2\n",
       "Associate/Scientist        2\n",
       "Scientist/Associate        1\n",
       "Physicist                  1\n",
       "Epidemiologist             1\n",
       "Economist                  1\n",
       "Scientist/Ecologist        1\n",
       "Ecologist                  1\n",
       "Sourcer                    1\n",
       "Developer                  1\n",
       "Bioinformaticist           1\n",
       "Biochemist                 1\n",
       "Pharmacoepidemiologist     1\n",
       "RESEARCHER                 1\n",
       "Sub                        1\n",
       "Chemist                    1\n",
       "Copywriter                 1\n",
       "Mgr-Security               1\n",
       "Producer                   1\n",
       "Geologist                  1\n",
       "Coordinator                1\n",
       "Scientist/Autoimmunity     1\n",
       "Biologist/Toxicologist     1\n",
       "Architect                  1\n",
       "Accountant/Bookkeeper      1\n",
       "Name: position, dtype: int64"
      ]
     },
     "metadata": {},
     "execution_count": 356
    }
   ],
   "metadata": {}
  },
  {
   "cell_type": "code",
   "execution_count": 364,
   "source": [
    "df[df['position'].apply(lambda x: len(str(x).split()) == 23)]['position'][4538]"
   ],
   "outputs": [
    {
     "output_type": "execute_result",
     "data": {
      "text/plain": [
       "'Program/Project Coordinator Opportunity - This is not a Technical IT role, but rather a support role for data analysis, system updates and reporting.'"
      ]
     },
     "metadata": {},
     "execution_count": 364
    }
   ],
   "metadata": {
    "scrolled": true
   }
  },
  {
   "cell_type": "code",
   "execution_count": 366,
   "source": [
    "df[df['position'].apply(lambda x: len(str(x).split()) == 19)]['position'][762]"
   ],
   "outputs": [
    {
     "output_type": "execute_result",
     "data": {
      "text/plain": [
       "'Tax Services Senior Analyst – National Tax – Fiduciary Trust Tax Services – Research & Technical Writing - Boston'"
      ]
     },
     "metadata": {},
     "execution_count": 366
    }
   ],
   "metadata": {}
  },
  {
   "cell_type": "code",
   "execution_count": 370,
   "source": [
    "df[df['position'].apply(lambda x: len(str(x).split()) == 10)]['position'][143]"
   ],
   "outputs": [
    {
     "output_type": "execute_result",
     "data": {
      "text/plain": [
       "'Junior Specialist - Periscope Advanced Insights Growth Mapping, New Ventures'"
      ]
     },
     "metadata": {},
     "execution_count": 370
    }
   ],
   "metadata": {}
  },
  {
   "cell_type": "markdown",
   "source": [
    "## 4. Positions has name of city/state? Analyze positions with York"
   ],
   "metadata": {}
  },
  {
   "cell_type": "code",
   "execution_count": 373,
   "source": [
    "from geotext import GeoText"
   ],
   "outputs": [],
   "metadata": {}
  },
  {
   "cell_type": "code",
   "execution_count": 377,
   "source": [
    "pos_string = ''.join([str(x) for x in df['position']])"
   ],
   "outputs": [],
   "metadata": {}
  },
  {
   "cell_type": "code",
   "execution_count": 378,
   "source": [
    "places = GeoText(pos_string)"
   ],
   "outputs": [],
   "metadata": {}
  },
  {
   "cell_type": "code",
   "execution_count": 384,
   "source": [
    "pd.Series(places.cities).value_counts().sum()"
   ],
   "outputs": [
    {
     "output_type": "execute_result",
     "data": {
      "text/plain": [
       "152"
      ]
     },
     "metadata": {},
     "execution_count": 384
    }
   ],
   "metadata": {}
  },
  {
   "cell_type": "code",
   "execution_count": 382,
   "source": [
    "pd.Series(places.cities).value_counts()"
   ],
   "outputs": [
    {
     "output_type": "execute_result",
     "data": {
      "text/plain": [
       "Cambridge        38\n",
       "New York         19\n",
       "Boston           15\n",
       "Seattle          12\n",
       "Atlanta           7\n",
       "Chicago           7\n",
       "San Diego         6\n",
       "Austin            6\n",
       "Los Angeles       3\n",
       "Orlando           3\n",
       "Central           3\n",
       "San Francisco     3\n",
       "Federal           2\n",
       "York              2\n",
       "Enterprise        2\n",
       "Metro             2\n",
       "Charlotte         2\n",
       "Bloomingdale      1\n",
       "Opportunity       1\n",
       "Berkeley          1\n",
       "Waltham           1\n",
       "Rockville         1\n",
       "Mission           1\n",
       "Redmond           1\n",
       "Jersey City       1\n",
       "Spring            1\n",
       "Aso               1\n",
       "Essen             1\n",
       "Bridgewater       1\n",
       "Seoul             1\n",
       "Washington        1\n",
       "Durham            1\n",
       "Florida           1\n",
       "San Mateo         1\n",
       "Frankfort         1\n",
       "Minneapolis       1\n",
       "Basel             1\n",
       "dtype: int64"
      ]
     },
     "metadata": {},
     "execution_count": 382
    }
   ],
   "metadata": {
    "scrolled": true
   }
  },
  {
   "cell_type": "code",
   "execution_count": 387,
   "source": [
    "pd.Series(places.country_mentions)"
   ],
   "outputs": [
    {
     "output_type": "execute_result",
     "data": {
      "text/plain": [
       "US    146\n",
       "DE      2\n",
       "ID      2\n",
       "AR      2\n",
       "FR      2\n",
       "UY      1\n",
       "KR      1\n",
       "CH      1\n",
       "JP      1\n",
       "VE      1\n",
       "UK      1\n",
       "dtype: int64"
      ]
     },
     "metadata": {},
     "execution_count": 387
    }
   ],
   "metadata": {}
  },
  {
   "cell_type": "code",
   "execution_count": 391,
   "source": [
    "pd.Series(places.country_mentions).sum()"
   ],
   "outputs": [
    {
     "output_type": "execute_result",
     "data": {
      "text/plain": [
       "160"
      ]
     },
     "metadata": {},
     "execution_count": 391
    }
   ],
   "metadata": {}
  },
  {
   "cell_type": "markdown",
   "source": [
    "### Analyze specific cases"
   ],
   "metadata": {}
  },
  {
   "cell_type": "code",
   "execution_count": 392,
   "source": [
    "df[df['position'].apply(lambda x: 'JP' in str(x))]['position']"
   ],
   "outputs": [
    {
     "output_type": "execute_result",
     "data": {
      "text/plain": [
       "3964    JP Morgan Chase Institute- Research Analyst fo...\n",
       "Name: position, dtype: object"
      ]
     },
     "metadata": {},
     "execution_count": 392
    }
   ],
   "metadata": {
    "scrolled": true
   }
  },
  {
   "cell_type": "code",
   "execution_count": 400,
   "source": [
    "df[df['position'].apply(lambda x: 'VE' in str(x))]['position']"
   ],
   "outputs": [
    {
     "output_type": "execute_result",
     "data": {
      "text/plain": [
       "833     BUSINESS SPECIALIST / 40 HOURS / EVENINGS - BW...\n",
       "2175                              SURVEY RESEARCH MANAGER\n",
       "3921       QUALITY IMPROVEMENT RESEARCH ANALYST - SURGERY\n",
       "4214                   DIVERSITY & INCLUSION DATA ANALYST\n",
       "4728    MD EXECUTIVE DIRECTOR, POPULATION HEALTH ANALY...\n",
       "5450                        RESEARCH IT ANALYST/DEVELOPER\n",
       "5484      REVENUE INTEGRITY ANALYST - PROG OPS SPECIALIST\n",
       "5701                      CONTACT CENTER REPRESENTATIVE 1\n",
       "6334                MEDICAL SCREENING REPRESENTATIVE (DC)\n",
       "Name: position, dtype: object"
      ]
     },
     "metadata": {},
     "execution_count": 400
    }
   ],
   "metadata": {}
  },
  {
   "cell_type": "code",
   "execution_count": 402,
   "source": [
    "df[df['position'].apply(lambda x: 'UK' in str(x))]['position'][2900]"
   ],
   "outputs": [
    {
     "output_type": "execute_result",
     "data": {
      "text/plain": [
       "'Design Scientist / Senior Design Scientist, NextGen Evidence Driven Design - US (Boston) or UK (Frankfort, Germany)'"
      ]
     },
     "metadata": {},
     "execution_count": 402
    }
   ],
   "metadata": {}
  },
  {
   "cell_type": "code",
   "execution_count": 406,
   "source": [
    "df[df['position'].apply(lambda x: ' US ' in str(x))]['position']"
   ],
   "outputs": [
    {
     "output_type": "execute_result",
     "data": {
      "text/plain": [
       "1541    Sr. Solution Architect (Pre-Sales-Central Regi...\n",
       "1588    Senior Sales Engineer- Central US - ChicagoChi...\n",
       "2900    Design Scientist / Senior Design Scientist, Ne...\n",
       "3368                     Account Executives - US and EMEA\n",
       "Name: position, dtype: object"
      ]
     },
     "metadata": {},
     "execution_count": 406
    }
   ],
   "metadata": {}
  },
  {
   "cell_type": "code",
   "execution_count": 408,
   "source": [
    "df[df['position'].apply(lambda x: ' Florida ' in str(x))]['position'][46]"
   ],
   "outputs": [
    {
     "output_type": "execute_result",
     "data": {
      "text/plain": [
       "'Data Scientist - Consultant Level - Orlando, Florida - we will assist with relocation'"
      ]
     },
     "metadata": {},
     "execution_count": 408
    }
   ],
   "metadata": {
    "scrolled": true
   }
  },
  {
   "cell_type": "code",
   "execution_count": 413,
   "source": [
    "df[df['position'].apply(lambda x: ' USA ' in str(x))]['position']"
   ],
   "outputs": [
    {
     "output_type": "execute_result",
     "data": {
      "text/plain": [
       "166    Team Lead – Informatics. Sensus USA Inc. Atlan...\n",
       "Name: position, dtype: object"
      ]
     },
     "metadata": {},
     "execution_count": 413
    }
   ],
   "metadata": {}
  },
  {
   "cell_type": "markdown",
   "source": [
    "## 5. Positions with cloud platform names."
   ],
   "metadata": {}
  },
  {
   "cell_type": "code",
   "execution_count": 427,
   "source": [
    "foo = lambda x: any([el in str(x).lower() for el in ['aws', 'amazon']])\r\n",
    "df[df['position'].apply(foo)]['position']"
   ],
   "outputs": [
    {
     "output_type": "execute_result",
     "data": {
      "text/plain": [
       "860     Research Scientist - Amazon Web Services - Bos...\n",
       "965     Principal Product Manager Technical, Amazon Se...\n",
       "1026          Sr.Technical Program Manager - Amazon Alexa\n",
       "1284     Amazon Web Services - Machine Learning Scientist\n",
       "1313    Analytical Linguist, Natural Language Understa...\n",
       "                              ...                        \n",
       "6374           Senior Data Scientist (Python, AWS, Spark)\n",
       "6730             Machine Learning Scientist, Amazon Alexa\n",
       "6760                     Knowledge Engineer, Amazon Alexa\n",
       "6788                     Knowledge Engineer, Amazon Alexa\n",
       "6953             Machine Learning Scientist, Amazon Alexa\n",
       "Name: position, Length: 72, dtype: object"
      ]
     },
     "metadata": {},
     "execution_count": 427
    }
   ],
   "metadata": {}
  },
  {
   "cell_type": "code",
   "execution_count": 437,
   "source": [
    "foo = lambda x: any([el in str(x).lower() for el in ['azure']])\r\n",
    "a = df[df['position'].apply(foo)]['position']\r\n",
    "b = a.shape[0]\r\n",
    "display(a,b)"
   ],
   "outputs": [
    {
     "output_type": "display_data",
     "data": {
      "text/plain": [
       "85                          Azure Data Scientist, Manager\n",
       "115                Azure Data Scientist, Senior Associate\n",
       "3605               Azure Data Scientist, Senior Associate\n",
       "3658                        Azure Data Scientist, Manager\n",
       "4398        Principal Software Engineer, Azure Databricks\n",
       "4512    Machine Learning Specialist - CSI / Azure - Cl...\n",
       "5633               Azure Data Scientist, Senior Associate\n",
       "5671                        Azure Data Scientist, Manager\n",
       "Name: position, dtype: object"
      ]
     },
     "metadata": {}
    },
    {
     "output_type": "display_data",
     "data": {
      "text/plain": [
       "8"
      ]
     },
     "metadata": {}
    }
   ],
   "metadata": {
    "scrolled": true
   }
  },
  {
   "cell_type": "code",
   "execution_count": 432,
   "source": [
    "foo = lambda x: any([el in str(x).lower() for el in ['google']])\r\n",
    "df[df['position'].apply(foo)]['position']"
   ],
   "outputs": [
    {
     "output_type": "execute_result",
     "data": {
      "text/plain": [
       "313     Data and Machine Learning Technical Trainer, G...\n",
       "536     Quantitative Business Analyst, Google Technica...\n",
       "538     Experiments and Modelling Analyst, Google Tech...\n",
       "567     Solutions Architect, Machine Learning, Google ...\n",
       "1427    Data and Machine Learning Technical Trainer, G...\n",
       "1540       Sales Engineer, Machine Learning, Google Cloud\n",
       "1890    Data and Machine Learning Technical Trainer, G...\n",
       "2533     Research Scientist, Google Brain (United States)\n",
       "3079       Sales Engineer, Machine Learning, Google Cloud\n",
       "3139             Research Software Engineer, Google Brain\n",
       "3159    Data Scientist, Ads and Commerce, Google Techn...\n",
       "3178    Google AI Resident (Healthcare), 2019 Start (F...\n",
       "3184    Data and Machine Learning Technical Trainer, G...\n",
       "3185    Data Scientist, Global Premium Services, Googl...\n",
       "3190     Research Scientist, Google Brain (United States)\n",
       "3319    Technical Program Manager, Partner Engineering...\n",
       "3385     Program Manager Forecasting Lead, Google Express\n",
       "3759       Sales Engineer, Machine Learning, Google Cloud\n",
       "4326     Research Scientist, Google Brain (United States)\n",
       "4327    Data and Machine Learning Technical Trainer, G...\n",
       "5061    Data and Machine Learning Technical Trainer, G...\n",
       "5598    Solutions Architect, Machine Learning, Google ...\n",
       "5718       Sales Engineer, Machine Learning, Google Cloud\n",
       "5857     Associate Scientist - SQL , Google , Source Data\n",
       "6201       Sales Engineer, Machine Learning, Google Cloud\n",
       "6700     Research Scientist, Google Brain (United States)\n",
       "6719    Solutions Architect, Machine Learning, Google ...\n",
       "6749       Sales Engineer, Machine Learning, Google Cloud\n",
       "6794    Machine Learning Solutions Engineer, Google Cl...\n",
       "6831                 Web Solutions Engineer, Google Cloud\n",
       "6853    Strategic Technology Partner Manager, Machine ...\n",
       "6866    Sales Strategy and Operations Manager, Custome...\n",
       "6925    Head of Data Science, Google Cloud Revenue Acc...\n",
       "6934    Data Scientist, Cloud Revenue Acceleration, Go...\n",
       "6941    Data Scientist, Engineering Support Analytics,...\n",
       "Name: position, dtype: object"
      ]
     },
     "metadata": {},
     "execution_count": 432
    }
   ],
   "metadata": {
    "scrolled": true
   }
  },
  {
   "cell_type": "code",
   "execution_count": 435,
   "source": [
    "foo = lambda x: any([el in str(x).lower() for el in ['google']])\r\n",
    "df[df['position'].apply(foo)]['position'].shape[0]"
   ],
   "outputs": [
    {
     "output_type": "execute_result",
     "data": {
      "text/plain": [
       "35"
      ]
     },
     "metadata": {},
     "execution_count": 435
    }
   ],
   "metadata": {}
  },
  {
   "cell_type": "code",
   "execution_count": 430,
   "source": [
    "df[df['position'].apply( lambda x: 'aws' in str(x).lower())]['position']"
   ],
   "outputs": [
    {
     "output_type": "execute_result",
     "data": {
      "text/plain": [
       "1389        Senior Software Engineer- (Java, Spring, AWS)\n",
       "1460    Mid-Level Data Scientist (Python, Pandas, NumP...\n",
       "4982    AWS Americas Business Analytics & Sales Insigh...\n",
       "5100                 Applied Scientist - AWS IoT Platform\n",
       "5133    Sr. Software Development Engineer, Amazon Sage...\n",
       "5195    Sr. Software Development Engineer, Amazon Sage...\n",
       "5208    Software Development Engineer, Amazon SageMake...\n",
       "5227    Software Development Engineer, Amazon SageMake...\n",
       "5234     Software Development Engineer - AWS IoT Platform\n",
       "5290    Software Development Engineer, Amazon SageMake...\n",
       "5303    Software Development Engineer, Amazon SageMake...\n",
       "5315               Software Development Engineer, AWS Lex\n",
       "5331    Frontend/UI Engineer, Amazon SageMaker, AWS Ma...\n",
       "5333    Frontend/UI Engineer, Amazon SageMaker, AWS Am...\n",
       "5349               Software Development Engineer, AWS Lex\n",
       "5352           Software Development Engineer-AWS-DynamoDB\n",
       "5409    Frontend/UI Engineer, Amazon SageMaker, AWS Ma...\n",
       "5412    Senior Research Scientist in Computer Vision -...\n",
       "5423                  AWS Sales Planning & Analytics Lead\n",
       "5540    Frontend/UI Engineer, Amazon SageMaker, AWS Am...\n",
       "5544    SDE AWS SageMaker Algorithms; Machine Learning...\n",
       "5579                    Analytics Leader - AWS Operations\n",
       "5706    SDE AWS SageMaker Algorithms; Machine Learning...\n",
       "6253    Senior NLP Data Scientist (Python, NLTK, AWS, ...\n",
       "6374           Senior Data Scientist (Python, AWS, Spark)\n",
       "Name: position, dtype: object"
      ]
     },
     "metadata": {},
     "execution_count": 430
    }
   ],
   "metadata": {
    "scrolled": true
   }
  },
  {
   "cell_type": "code",
   "execution_count": 436,
   "source": [
    "df[df['position'].apply( lambda x: 'aws' in str(x).lower())]['position'].shape[0]"
   ],
   "outputs": [
    {
     "output_type": "execute_result",
     "data": {
      "text/plain": [
       "25"
      ]
     },
     "metadata": {},
     "execution_count": 436
    }
   ],
   "metadata": {}
  },
  {
   "cell_type": "code",
   "execution_count": 425,
   "source": [
    "any([x in str(x).lower() for x in ['aws', 'amazon']])"
   ],
   "outputs": [
    {
     "output_type": "execute_result",
     "data": {
      "text/plain": [
       "False"
      ]
     },
     "metadata": {},
     "execution_count": 425
    }
   ],
   "metadata": {}
  },
  {
   "cell_type": "markdown",
   "source": [
    "### Analyze Amazon positions"
   ],
   "metadata": {}
  },
  {
   "cell_type": "code",
   "execution_count": 438,
   "source": [
    "from nltk.text import Text"
   ],
   "outputs": [],
   "metadata": {}
  },
  {
   "cell_type": "code",
   "execution_count": 472,
   "source": [
    "positions = ''.join([str(x) for x in df['position']])"
   ],
   "outputs": [],
   "metadata": {}
  },
  {
   "cell_type": "code",
   "execution_count": 473,
   "source": [
    "tokens = word_tokenize(positions)\r\n",
    "text = Text(tokens)"
   ],
   "outputs": [],
   "metadata": {}
  },
  {
   "cell_type": "code",
   "execution_count": 475,
   "source": [
    "text.concordance('aws', width=40)"
   ],
   "outputs": [
    {
     "output_type": "stream",
     "name": "stdout",
     "text": [
      "Displaying 22 of 22 matches:\n",
      "( Java , Spring , AWS ) Senior Front En\n",
      " , SciKit Learn , AWS ) Research Scient\n",
      "plied Scientist - AWS IoT PlatformSenio\n",
      "mazon SageMaker , AWS AmazonAI Machine \n",
      "mazon SageMaker , AWS AmazonAI Machine \n",
      "mazon SageMaker , AWS AmazonAI Machine \n",
      "r ML Frameworks , AWS AmazonAI Machine \n",
      "opment Engineer - AWS IoT PlatformSenio\n",
      "mazon SageMaker , AWS AmazonAI Machine \n",
      "r ML Frameworks , AWS AmazonAI Machine \n",
      "opment Engineer , AWS LexResearch Assoc\n",
      "mazon SageMaker , AWS Machine Learning \n",
      "mazon SageMaker , AWS AmazonAI Machine \n",
      "opment Engineer , AWS LexPrincipal Prod\n",
      "mazon SageMaker , AWS Machine Learning \n",
      "Computer Vision - AWS Global Infrastruc\n",
      "mazon SageMaker , AWS AmazonAI Machine \n",
      "chine LearningSDE AWS SageMaker Algorit\n",
      "nalytics Leader - AWS OperationsSoftwar\n",
      "ical ScientistSDE AWS SageMaker Algorit\n",
      "( Python , NLTK , AWS , SciKitLearn ) C\n",
      "entist ( Python , AWS , Spark ) Data En\n"
     ]
    }
   ],
   "metadata": {
    "scrolled": true
   }
  },
  {
   "cell_type": "code",
   "execution_count": 480,
   "source": [
    "text.concordance('amazon', width=60)"
   ],
   "outputs": [
    {
     "output_type": "stream",
     "name": "stdout",
     "text": [
      "Displaying 25 of 53 matches:\n",
      "cienceResearch Scientist - Amazon Web Services - Boston , MA\n",
      "roduct Manager Technical , Amazon Search ( L7 ) POSTDOCTORAL\n",
      "echnical Program Manager - Amazon AlexaResearch Fellow - Car\n",
      "ge Understanding ( NLU ) - Amazon AIData Scientist - Digital\n",
      "/Lead Software Developer - AMAZON ALEXA MACHINE LEARNING SCI\n",
      "are Development Engineer - AMAZON ALEXA Machine Learning Sci\n",
      "/Lead Software Developer - AMAZON ALEXA MACHINE LEARNING SCI\n",
      "enior Software Developer - AMAZON ALEXA Machine Learning Tea\n",
      "enior Software Developer - AMAZON ALEXA Machine Learning Sci\n",
      "enior Software Developer - AMAZON ALEXA Machine Learning Sci\n",
      "are Development Engineer - AMAZON ALEXA Machine Learning Tea\n",
      "Senior Software Engineer - AMAZON ALEXA MACHINE LEARNING SCI\n",
      "Senior Software Engineer - AMAZON ALEXA MACHINE LEARNING SCI\n",
      "Senior Software Engineer - AMAZON ALEXA MACHINE LEARNING SCI\n",
      "enior Software Developer - AMAZON ALEXA Machine Learning Tea\n",
      "echnical Program Manager - Amazon AlexaSenior Technical Prod\n",
      "ython Software Developer - AMAZON ALEXA Machine Learning Tea\n",
      "ython Software Developer - AMAZON ALEXA Machine Learning Tea\n",
      "chine Learning Scientist , Amazon AlexaBS/MS Scientist , Imm\n",
      "Senior Applied Scientist - Amazon AIResearch AnalystResearch\n",
      "ientistApplied Scientist - Amazon AISecurity Data ScientistS\n",
      "ymentsResearch Scientist - Amazon RestaurantsResearch Scient\n",
      "guage Processing ( NLP ) - Amazon AIBioinformatics Scientist\n",
      " ScientistData Scientist - Amazon Business InternationalAppl\n",
      "ity LeadApplied Scientist- Amazon AIOperations Research Scie\n"
     ]
    }
   ],
   "metadata": {
    "scrolled": true
   }
  },
  {
   "cell_type": "code",
   "execution_count": 479,
   "source": [
    "text.concordance('Alexa', width=40)"
   ],
   "outputs": [
    {
     "output_type": "stream",
     "name": "stdout",
     "text": [
      "Displaying 25 of 62 matches:\n",
      "ience Designer - Alexa Data ServicesDat\n",
      "yst / Data SME - Alexa Data ServicesCor\n",
      "siness Partner – Alexa , Machine Learni\n",
      "veloper - AMAZON ALEXA MACHINE LEARNING\n",
      "ngineer - AMAZON ALEXA Machine Learning\n",
      "veloper - AMAZON ALEXA MACHINE LEARNING\n",
      "arch Scientist , Alexa - Kendall Square\n",
      "ning Scientist , Alexa - Kendall Square\n",
      "ning Scientist , Alexa - Acoustic Model\n",
      " Data Scientist- Alexa MLData Engineer \n",
      "LData Engineer ( Alexa Machine Learning\n",
      "ning Scientist , Alexa - Acoustic Model\n",
      "arch Scientist , Alexa - Kendall Square\n",
      "veloper - AMAZON ALEXA Machine Learning\n",
      "ng Manager- 2018 Alexa BostonAssociate \n",
      "veloper - AMAZON ALEXA Machine Learning\n",
      "veloper - AMAZON ALEXA Machine Learning\n",
      "ngineer - AMAZON ALEXA Machine Learning\n",
      "ngineer - AMAZON ALEXA MACHINE LEARNING\n",
      "ngineer - AMAZON ALEXA MACHINE LEARNING\n",
      "ngineer - AMAZON ALEXA MACHINE LEARNING\n",
      "veloper - AMAZON ALEXA Machine Learning\n",
      " DeveloperAmazon Alexa Machine Learning\n",
      "roduct Manager - Alexa Data Services ( \n",
      "veloper - AMAZON ALEXA Machine Learning\n"
     ]
    }
   ],
   "metadata": {
    "scrolled": true
   }
  },
  {
   "cell_type": "markdown",
   "source": [
    "### Analyze Google positions"
   ],
   "metadata": {}
  },
  {
   "cell_type": "code",
   "execution_count": 481,
   "source": [
    "text.concordance('google', width=40)"
   ],
   "outputs": [
    {
     "output_type": "stream",
     "name": "stdout",
     "text": [
      "Displaying 25 of 34 matches:\n",
      "hnical Trainer , Google Cloud PlatformDa\n",
      "siness Analyst , Google Technical Servic\n",
      "elling Analyst , Google Technical Servic\n",
      "chine Learning , Google CloudNumerical A\n",
      "hnical Trainer , Google Cloud PlatformDa\n",
      "chine Learning , Google CloudSr . Soluti\n",
      "hnical Trainer , Google Cloud PlatformDa\n",
      "arch Scientist , Google Brain ( United S\n",
      "chine Learning , Google CloudDirector of\n",
      "tware Engineer , Google BrainDeveloper A\n",
      "s and Commerce , Google Technical Servic\n",
      "hnical Trainer , Google Cloud PlatformDa\n",
      "emium Services , Google Technical Servic\n",
      "arch Scientist , Google Brain ( United S\n",
      "er Engineering , Google AIRegulatory Aff\n",
      "recasting Lead , Google ExpressMachine L\n",
      "chine Learning , Google CloudAnalyst , R\n",
      "arch Scientist , Google Brain ( United S\n",
      "hnical Trainer , Google Cloud PlatformDa\n",
      "hnical Trainer , Google Cloud PlatformSr\n",
      "chine Learning , Google CloudResearch As\n",
      "chine Learning , Google CloudDirector , \n",
      "cientist - SQL , Google , Source DataSta\n",
      "chine Learning , Google CloudAssociate D\n",
      "arch Scientist , Google Brain ( United S\n"
     ]
    }
   ],
   "metadata": {
    "scrolled": true
   }
  },
  {
   "cell_type": "markdown",
   "source": [
    "## Average word size"
   ],
   "metadata": {}
  },
  {
   "cell_type": "code",
   "execution_count": 496,
   "source": [
    "tokens = word_tokenize(df['position'][0])\r\n",
    "len(tokens)"
   ],
   "outputs": [
    {
     "output_type": "execute_result",
     "data": {
      "text/plain": [
       "2"
      ]
     },
     "metadata": {},
     "execution_count": 496
    }
   ],
   "metadata": {}
  },
  {
   "cell_type": "code",
   "execution_count": 498,
   "source": [
    "np.sum([len(x) for x in tokens])/len(tokens)"
   ],
   "outputs": [
    {
     "output_type": "execute_result",
     "data": {
      "text/plain": [
       "9.5"
      ]
     },
     "metadata": {},
     "execution_count": 498
    }
   ],
   "metadata": {}
  },
  {
   "cell_type": "code",
   "execution_count": 512,
   "source": [
    "def foo(position):\r\n",
    "    tokens = word_tokenize(str(position))\r\n",
    "    mean_word_size = np.sum([len(x) for x in tokens])/len(tokens)\r\n",
    "    return mean_word_size\r\n",
    "\r\n",
    "a = df['position'].apply(foo)\r\n",
    "a.name = 'mean word size'"
   ],
   "outputs": [],
   "metadata": {}
  },
  {
   "cell_type": "code",
   "execution_count": 513,
   "source": [
    "b = df['position'].apply(lambda x: len(word_tokenize(str(x))))\r\n",
    "b.name = 'num of words'"
   ],
   "outputs": [],
   "metadata": {}
  },
  {
   "cell_type": "code",
   "execution_count": 514,
   "source": [
    "c = pd.concat([a,b], axis=1)"
   ],
   "outputs": [],
   "metadata": {}
  },
  {
   "cell_type": "code",
   "execution_count": 520,
   "source": [
    "plt.subplots(figsize=(10,5))\r\n",
    "sns.histplot(data=c, x='mean word size', bins=20)"
   ],
   "outputs": [
    {
     "output_type": "execute_result",
     "data": {
      "text/plain": [
       "<AxesSubplot:xlabel='mean word size', ylabel='Count'>"
      ]
     },
     "metadata": {},
     "execution_count": 520
    },
    {
     "output_type": "display_data",
     "data": {
      "text/plain": [
       "<Figure size 720x360 with 1 Axes>"
      ],
      "image/png": "[encoded data removed]"
     },
     "metadata": {}
    }
   ],
   "metadata": {
    "scrolled": false
   }
  },
  {
   "cell_type": "code",
   "execution_count": 522,
   "source": [
    "plt.subplots(figsize=(10,5))\r\n",
    "sns.histplot(data=c, x='num of words')"
   ],
   "outputs": [
    {
     "output_type": "execute_result",
     "data": {
      "text/plain": [
       "<AxesSubplot:xlabel='num of words', ylabel='Count'>"
      ]
     },
     "metadata": {},
     "execution_count": 522
    },
    {
     "output_type": "display_data",
     "data": {
      "text/plain": [
       "<Figure size 720x360 with 1 Axes>"
      ],
      "image/png": "[encoded data removed]"
     },
     "metadata": {}
    }
   ],
   "metadata": {}
  },
  {
   "cell_type": "code",
   "execution_count": 535,
   "source": [
    "# sns.jointplot(data=c, x='num of words', y='mean word size', color=\"#4CB391\")\r\n",
    "sns.jointplot(data=c, x='num of words', y='mean word size', kind='hist', height=8, palette='jet')"
   ],
   "outputs": [
    {
     "output_type": "execute_result",
     "data": {
      "text/plain": [
       "<seaborn.axisgrid.JointGrid at 0x1faf49bbbc8>"
      ]
     },
     "metadata": {},
     "execution_count": 535
    },
    {
     "output_type": "display_data",
     "data": {
      "text/plain": [
       "<Figure size 576x576 with 3 Axes>"
      ],
      "image/png": "[encoded data removed]"
     },
     "metadata": {}
    }
   ],
   "metadata": {
    "scrolled": false
   }
  },
  {
   "cell_type": "code",
   "execution_count": 537,
   "source": [
    "sns.heatmap(c)"
   ],
   "outputs": [
    {
     "output_type": "execute_result",
     "data": {
      "text/plain": [
       "<AxesSubplot:>"
      ]
     },
     "metadata": {},
     "execution_count": 537
    },
    {
     "output_type": "display_data",
     "data": {
      "text/plain": [
       "<Figure size 432x288 with 2 Axes>"
      ],
      "image/png": "[encoded data removed]"
     },
     "metadata": {}
    }
   ],
   "metadata": {}
  },
  {
   "cell_type": "code",
   "execution_count": 560,
   "source": [
    "d = pd.crosstab(# pd.cut(c['mean word size'],bins=[0, 1, 2, 4, 8, 16,float('inf')])\r\n",
    "pd.cut(c['mean word size'],bins=10),c['num of words'])\r\n",
    "sns.heatmap(d)"
   ],
   "outputs": [
    {
     "output_type": "execute_result",
     "data": {
      "text/plain": [
       "<AxesSubplot:xlabel='num of words', ylabel='mean word size'>"
      ]
     },
     "metadata": {},
     "execution_count": 560
    },
    {
     "output_type": "display_data",
     "data": {
      "text/plain": [
       "<Figure size 432x288 with 2 Axes>"
      ],
      "image/png": "[encoded data removed]"
     },
     "metadata": {}
    }
   ],
   "metadata": {}
  },
  {
   "cell_type": "code",
   "execution_count": 558,
   "source": [
    "# pd.cut(c['mean word size'],bins=[0, 1, 2, 4, 8, 16,float('inf')])\r\n",
    "pd.cut(c['mean word size'],bins=8)"
   ],
   "outputs": [
    {
     "output_type": "execute_result",
     "data": {
      "text/plain": [
       "0       (7.214, 9.679]\n",
       "1       (7.214, 9.679]\n",
       "2        (4.75, 7.214]\n",
       "3        (4.75, 7.214]\n",
       "4        (4.75, 7.214]\n",
       "             ...      \n",
       "6959     (4.75, 7.214]\n",
       "6960     (4.75, 7.214]\n",
       "6961    (7.214, 9.679]\n",
       "6962     (4.75, 7.214]\n",
       "6963     (4.75, 7.214]\n",
       "Name: mean word size, Length: 6964, dtype: category\n",
       "Categories (8, interval[float64]): [(2.266, 4.75] < (4.75, 7.214] < (7.214, 9.679] < (9.679, 12.143] < (12.143, 14.607] < (14.607, 17.071] < (17.071, 19.536] < (19.536, 22.0]]"
      ]
     },
     "metadata": {},
     "execution_count": 558
    }
   ],
   "metadata": {}
  },
  {
   "cell_type": "markdown",
   "source": [
    "# Draft"
   ],
   "metadata": {}
  },
  {
   "cell_type": "code",
   "execution_count": 484,
   "source": [
    "df['position'].count()"
   ],
   "outputs": [
    {
     "output_type": "execute_result",
     "data": {
      "text/plain": [
       "6953"
      ]
     },
     "metadata": {},
     "execution_count": 484
    }
   ],
   "metadata": {}
  },
  {
   "cell_type": "code",
   "execution_count": 488,
   "source": [
    "5,6"
   ],
   "outputs": [
    {
     "output_type": "execute_result",
     "data": {
      "text/plain": [
       "(5, 6)"
      ]
     },
     "metadata": {},
     "execution_count": 488
    }
   ],
   "metadata": {}
  },
  {
   "cell_type": "markdown",
   "source": [
    "# Second Approach for word count"
   ],
   "metadata": {}
  },
  {
   "cell_type": "code",
   "execution_count": 170,
   "source": [
    "positions = pd.DataFrame(positions).reset_index().rename(columns={'index': 'position', 'position': 'quantity'})\r\n",
    "\r\n",
    "has_data_word = []\r\n",
    "has_scientist_word = []\r\n",
    "has_data_scientist_word = []\r\n",
    "for idx, position in enumerate(positions['position']):\r\n",
    "    words = [w.lower() for w in position.split()]\r\n",
    "    has_data_word.append(1 if 'data' in words else 0)\r\n",
    "    has_scientist_word.append(1 if 'scientist' in words else 0)\r\n",
    "    has_data_scientist_word.append(all([x in words for x in ['data', 'scientist']]))\r\n",
    "    \r\n",
    "positions['has_data_word'] = np.array(has_data_word)\r\n",
    "positions['has_scientist_word'] = np.array(has_scientist_word)\r\n",
    "positions['has_data_scientist_word'] = np.array(has_data_scientist_word)\r\n",
    "\r\n",
    "\r\n",
    "a = positions.has_data_word.value_counts()/positions.shape[0]*100\r\n",
    "a1 = positions.has_data_word.value_counts()\r\n",
    "b = positions.has_scientist_word.value_counts()/positions.shape[0]*100\r\n",
    "b1 = positions.has_scientist_word.value_counts()\r\n",
    "c = positions.has_data_scientist_word.value_counts()/positions.shape[0]*100\r\n",
    "c1 = positions.has_data_scientist_word.value_counts()\r\n",
    "pd.concat([a,a1,b,b1,c,c1], axis=1).T"
   ],
   "outputs": [
    {
     "output_type": "execute_result",
     "data": {
      "text/plain": [
       "                                   0            1\n",
       "has_data_word              78.099962    21.900038\n",
       "has_data_word            4094.000000  1148.000000\n",
       "has_scientist_word         77.565815    22.434185\n",
       "has_scientist_word       4066.000000  1176.000000\n",
       "has_data_scientist_word    91.529950     8.470050\n",
       "has_data_scientist_word  4798.000000   444.000000"
      ],
      "text/html": [
       "<div>\n",
       "<style scoped>\n",
       "    .dataframe tbody tr th:only-of-type {\n",
       "        vertical-align: middle;\n",
       "    }\n",
       "\n",
       "    .dataframe tbody tr th {\n",
       "        vertical-align: top;\n",
       "    }\n",
       "\n",
       "    .dataframe thead th {\n",
       "        text-align: right;\n",
       "    }\n",
       "</style>\n",
       "<table border=\"1\" class=\"dataframe\">\n",
       "  <thead>\n",
       "    <tr style=\"text-align: right;\">\n",
       "      <th></th>\n",
       "      <th>0</th>\n",
       "      <th>1</th>\n",
       "    </tr>\n",
       "  </thead>\n",
       "  <tbody>\n",
       "    <tr>\n",
       "      <th>has_data_word</th>\n",
       "      <td>78.099962</td>\n",
       "      <td>21.900038</td>\n",
       "    </tr>\n",
       "    <tr>\n",
       "      <th>has_data_word</th>\n",
       "      <td>4094.000000</td>\n",
       "      <td>1148.000000</td>\n",
       "    </tr>\n",
       "    <tr>\n",
       "      <th>has_scientist_word</th>\n",
       "      <td>77.565815</td>\n",
       "      <td>22.434185</td>\n",
       "    </tr>\n",
       "    <tr>\n",
       "      <th>has_scientist_word</th>\n",
       "      <td>4066.000000</td>\n",
       "      <td>1176.000000</td>\n",
       "    </tr>\n",
       "    <tr>\n",
       "      <th>has_data_scientist_word</th>\n",
       "      <td>91.529950</td>\n",
       "      <td>8.470050</td>\n",
       "    </tr>\n",
       "    <tr>\n",
       "      <th>has_data_scientist_word</th>\n",
       "      <td>4798.000000</td>\n",
       "      <td>444.000000</td>\n",
       "    </tr>\n",
       "  </tbody>\n",
       "</table>\n",
       "</div>"
      ]
     },
     "metadata": {},
     "execution_count": 170
    }
   ],
   "metadata": {}
  },
  {
   "cell_type": "markdown",
   "source": [
    "<font size=3>Check some tables</font>"
   ],
   "metadata": {}
  },
  {
   "cell_type": "code",
   "execution_count": 125,
   "source": [
    "positions[positions['has_data_word'] == 1]"
   ],
   "outputs": [
    {
     "output_type": "execute_result",
     "data": {
      "text/plain": [
       "                                               position  quantity  \\\n",
       "0                                        Data Scientist       351   \n",
       "1                                 Senior Data Scientist        96   \n",
       "3                                         Data Engineer        60   \n",
       "5                                   Lead Data Scientist        31   \n",
       "7                                    Sr. Data Scientist        28   \n",
       "...                                                 ...       ...   \n",
       "5215                            Data Scientist -Transit         1   \n",
       "5221  Senior Data Scientist - Healthcare Analytics &...         1   \n",
       "5226                                    Sr Data Analyst         1   \n",
       "5233               Senior Product Manager, Data Science         1   \n",
       "5239   Lead Data Analyst - Digital Test and Measurement         1   \n",
       "\n",
       "      has_data_word  has_scientist_word  has_data_scientist_word  \n",
       "0                 1                   1                     True  \n",
       "1                 1                   1                     True  \n",
       "3                 1                   0                    False  \n",
       "5                 1                   1                     True  \n",
       "7                 1                   1                     True  \n",
       "...             ...                 ...                      ...  \n",
       "5215              1                   1                     True  \n",
       "5221              1                   1                     True  \n",
       "5226              1                   0                    False  \n",
       "5233              1                   0                    False  \n",
       "5239              1                   0                    False  \n",
       "\n",
       "[1148 rows x 5 columns]"
      ],
      "text/html": [
       "<div>\n",
       "<style scoped>\n",
       "    .dataframe tbody tr th:only-of-type {\n",
       "        vertical-align: middle;\n",
       "    }\n",
       "\n",
       "    .dataframe tbody tr th {\n",
       "        vertical-align: top;\n",
       "    }\n",
       "\n",
       "    .dataframe thead th {\n",
       "        text-align: right;\n",
       "    }\n",
       "</style>\n",
       "<table border=\"1\" class=\"dataframe\">\n",
       "  <thead>\n",
       "    <tr style=\"text-align: right;\">\n",
       "      <th></th>\n",
       "      <th>position</th>\n",
       "      <th>quantity</th>\n",
       "      <th>has_data_word</th>\n",
       "      <th>has_scientist_word</th>\n",
       "      <th>has_data_scientist_word</th>\n",
       "    </tr>\n",
       "  </thead>\n",
       "  <tbody>\n",
       "    <tr>\n",
       "      <th>0</th>\n",
       "      <td>Data Scientist</td>\n",
       "      <td>351</td>\n",
       "      <td>1</td>\n",
       "      <td>1</td>\n",
       "      <td>True</td>\n",
       "    </tr>\n",
       "    <tr>\n",
       "      <th>1</th>\n",
       "      <td>Senior Data Scientist</td>\n",
       "      <td>96</td>\n",
       "      <td>1</td>\n",
       "      <td>1</td>\n",
       "      <td>True</td>\n",
       "    </tr>\n",
       "    <tr>\n",
       "      <th>3</th>\n",
       "      <td>Data Engineer</td>\n",
       "      <td>60</td>\n",
       "      <td>1</td>\n",
       "      <td>0</td>\n",
       "      <td>False</td>\n",
       "    </tr>\n",
       "    <tr>\n",
       "      <th>5</th>\n",
       "      <td>Lead Data Scientist</td>\n",
       "      <td>31</td>\n",
       "      <td>1</td>\n",
       "      <td>1</td>\n",
       "      <td>True</td>\n",
       "    </tr>\n",
       "    <tr>\n",
       "      <th>7</th>\n",
       "      <td>Sr. Data Scientist</td>\n",
       "      <td>28</td>\n",
       "      <td>1</td>\n",
       "      <td>1</td>\n",
       "      <td>True</td>\n",
       "    </tr>\n",
       "    <tr>\n",
       "      <th>...</th>\n",
       "      <td>...</td>\n",
       "      <td>...</td>\n",
       "      <td>...</td>\n",
       "      <td>...</td>\n",
       "      <td>...</td>\n",
       "    </tr>\n",
       "    <tr>\n",
       "      <th>5215</th>\n",
       "      <td>Data Scientist -Transit</td>\n",
       "      <td>1</td>\n",
       "      <td>1</td>\n",
       "      <td>1</td>\n",
       "      <td>True</td>\n",
       "    </tr>\n",
       "    <tr>\n",
       "      <th>5221</th>\n",
       "      <td>Senior Data Scientist - Healthcare Analytics &amp;...</td>\n",
       "      <td>1</td>\n",
       "      <td>1</td>\n",
       "      <td>1</td>\n",
       "      <td>True</td>\n",
       "    </tr>\n",
       "    <tr>\n",
       "      <th>5226</th>\n",
       "      <td>Sr Data Analyst</td>\n",
       "      <td>1</td>\n",
       "      <td>1</td>\n",
       "      <td>0</td>\n",
       "      <td>False</td>\n",
       "    </tr>\n",
       "    <tr>\n",
       "      <th>5233</th>\n",
       "      <td>Senior Product Manager, Data Science</td>\n",
       "      <td>1</td>\n",
       "      <td>1</td>\n",
       "      <td>0</td>\n",
       "      <td>False</td>\n",
       "    </tr>\n",
       "    <tr>\n",
       "      <th>5239</th>\n",
       "      <td>Lead Data Analyst - Digital Test and Measurement</td>\n",
       "      <td>1</td>\n",
       "      <td>1</td>\n",
       "      <td>0</td>\n",
       "      <td>False</td>\n",
       "    </tr>\n",
       "  </tbody>\n",
       "</table>\n",
       "<p>1148 rows × 5 columns</p>\n",
       "</div>"
      ]
     },
     "metadata": {},
     "execution_count": 125
    }
   ],
   "metadata": {
    "collapsed": true
   }
  },
  {
   "cell_type": "code",
   "execution_count": 126,
   "source": [
    "positions[positions['has_data_word'] == 1].head(10)"
   ],
   "outputs": [
    {
     "output_type": "execute_result",
     "data": {
      "text/plain": [
       "                    position  quantity  has_data_word  has_scientist_word  \\\n",
       "0             Data Scientist       351              1                   1   \n",
       "1      Senior Data Scientist        96              1                   1   \n",
       "3              Data Engineer        60              1                   0   \n",
       "5        Lead Data Scientist        31              1                   1   \n",
       "7         Sr. Data Scientist        28              1                   1   \n",
       "8   Principal Data Scientist        24              1                   1   \n",
       "10              Data Analyst        22              1                   0   \n",
       "20      Senior Data Engineer        12              1                   0   \n",
       "23      Staff Data Scientist        11              1                   1   \n",
       "27        Lead Data Engineer         9              1                   0   \n",
       "\n",
       "    has_data_scientist_word  \n",
       "0                      True  \n",
       "1                      True  \n",
       "3                     False  \n",
       "5                      True  \n",
       "7                      True  \n",
       "8                      True  \n",
       "10                    False  \n",
       "20                    False  \n",
       "23                     True  \n",
       "27                    False  "
      ],
      "text/html": [
       "<div>\n",
       "<style scoped>\n",
       "    .dataframe tbody tr th:only-of-type {\n",
       "        vertical-align: middle;\n",
       "    }\n",
       "\n",
       "    .dataframe tbody tr th {\n",
       "        vertical-align: top;\n",
       "    }\n",
       "\n",
       "    .dataframe thead th {\n",
       "        text-align: right;\n",
       "    }\n",
       "</style>\n",
       "<table border=\"1\" class=\"dataframe\">\n",
       "  <thead>\n",
       "    <tr style=\"text-align: right;\">\n",
       "      <th></th>\n",
       "      <th>position</th>\n",
       "      <th>quantity</th>\n",
       "      <th>has_data_word</th>\n",
       "      <th>has_scientist_word</th>\n",
       "      <th>has_data_scientist_word</th>\n",
       "    </tr>\n",
       "  </thead>\n",
       "  <tbody>\n",
       "    <tr>\n",
       "      <th>0</th>\n",
       "      <td>Data Scientist</td>\n",
       "      <td>351</td>\n",
       "      <td>1</td>\n",
       "      <td>1</td>\n",
       "      <td>True</td>\n",
       "    </tr>\n",
       "    <tr>\n",
       "      <th>1</th>\n",
       "      <td>Senior Data Scientist</td>\n",
       "      <td>96</td>\n",
       "      <td>1</td>\n",
       "      <td>1</td>\n",
       "      <td>True</td>\n",
       "    </tr>\n",
       "    <tr>\n",
       "      <th>3</th>\n",
       "      <td>Data Engineer</td>\n",
       "      <td>60</td>\n",
       "      <td>1</td>\n",
       "      <td>0</td>\n",
       "      <td>False</td>\n",
       "    </tr>\n",
       "    <tr>\n",
       "      <th>5</th>\n",
       "      <td>Lead Data Scientist</td>\n",
       "      <td>31</td>\n",
       "      <td>1</td>\n",
       "      <td>1</td>\n",
       "      <td>True</td>\n",
       "    </tr>\n",
       "    <tr>\n",
       "      <th>7</th>\n",
       "      <td>Sr. Data Scientist</td>\n",
       "      <td>28</td>\n",
       "      <td>1</td>\n",
       "      <td>1</td>\n",
       "      <td>True</td>\n",
       "    </tr>\n",
       "    <tr>\n",
       "      <th>8</th>\n",
       "      <td>Principal Data Scientist</td>\n",
       "      <td>24</td>\n",
       "      <td>1</td>\n",
       "      <td>1</td>\n",
       "      <td>True</td>\n",
       "    </tr>\n",
       "    <tr>\n",
       "      <th>10</th>\n",
       "      <td>Data Analyst</td>\n",
       "      <td>22</td>\n",
       "      <td>1</td>\n",
       "      <td>0</td>\n",
       "      <td>False</td>\n",
       "    </tr>\n",
       "    <tr>\n",
       "      <th>20</th>\n",
       "      <td>Senior Data Engineer</td>\n",
       "      <td>12</td>\n",
       "      <td>1</td>\n",
       "      <td>0</td>\n",
       "      <td>False</td>\n",
       "    </tr>\n",
       "    <tr>\n",
       "      <th>23</th>\n",
       "      <td>Staff Data Scientist</td>\n",
       "      <td>11</td>\n",
       "      <td>1</td>\n",
       "      <td>1</td>\n",
       "      <td>True</td>\n",
       "    </tr>\n",
       "    <tr>\n",
       "      <th>27</th>\n",
       "      <td>Lead Data Engineer</td>\n",
       "      <td>9</td>\n",
       "      <td>1</td>\n",
       "      <td>0</td>\n",
       "      <td>False</td>\n",
       "    </tr>\n",
       "  </tbody>\n",
       "</table>\n",
       "</div>"
      ]
     },
     "metadata": {},
     "execution_count": 126
    }
   ],
   "metadata": {
    "collapsed": true
   }
  },
  {
   "cell_type": "code",
   "execution_count": 128,
   "source": [
    "positions[positions['has_data_scientist_word'] == 1]"
   ],
   "outputs": [
    {
     "output_type": "execute_result",
     "data": {
      "text/plain": [
       "                                               position  quantity  \\\n",
       "0                                        Data Scientist       351   \n",
       "1                                 Senior Data Scientist        96   \n",
       "5                                   Lead Data Scientist        31   \n",
       "7                                    Sr. Data Scientist        28   \n",
       "8                              Principal Data Scientist        24   \n",
       "...                                                 ...       ...   \n",
       "5193  Data Scientist / Machine Learning Engineer - I...         1   \n",
       "5211                  Sr. Data Scientist - Segmentation         1   \n",
       "5214              Quantitative Analyst / Data Scientist         1   \n",
       "5215                            Data Scientist -Transit         1   \n",
       "5221  Senior Data Scientist - Healthcare Analytics &...         1   \n",
       "\n",
       "      has_data_word  has_scientist_word  has_data_scientist_word  \n",
       "0                 1                   1                     True  \n",
       "1                 1                   1                     True  \n",
       "5                 1                   1                     True  \n",
       "7                 1                   1                     True  \n",
       "8                 1                   1                     True  \n",
       "...             ...                 ...                      ...  \n",
       "5193              1                   1                     True  \n",
       "5211              1                   1                     True  \n",
       "5214              1                   1                     True  \n",
       "5215              1                   1                     True  \n",
       "5221              1                   1                     True  \n",
       "\n",
       "[444 rows x 5 columns]"
      ],
      "text/html": [
       "<div>\n",
       "<style scoped>\n",
       "    .dataframe tbody tr th:only-of-type {\n",
       "        vertical-align: middle;\n",
       "    }\n",
       "\n",
       "    .dataframe tbody tr th {\n",
       "        vertical-align: top;\n",
       "    }\n",
       "\n",
       "    .dataframe thead th {\n",
       "        text-align: right;\n",
       "    }\n",
       "</style>\n",
       "<table border=\"1\" class=\"dataframe\">\n",
       "  <thead>\n",
       "    <tr style=\"text-align: right;\">\n",
       "      <th></th>\n",
       "      <th>position</th>\n",
       "      <th>quantity</th>\n",
       "      <th>has_data_word</th>\n",
       "      <th>has_scientist_word</th>\n",
       "      <th>has_data_scientist_word</th>\n",
       "    </tr>\n",
       "  </thead>\n",
       "  <tbody>\n",
       "    <tr>\n",
       "      <th>0</th>\n",
       "      <td>Data Scientist</td>\n",
       "      <td>351</td>\n",
       "      <td>1</td>\n",
       "      <td>1</td>\n",
       "      <td>True</td>\n",
       "    </tr>\n",
       "    <tr>\n",
       "      <th>1</th>\n",
       "      <td>Senior Data Scientist</td>\n",
       "      <td>96</td>\n",
       "      <td>1</td>\n",
       "      <td>1</td>\n",
       "      <td>True</td>\n",
       "    </tr>\n",
       "    <tr>\n",
       "      <th>5</th>\n",
       "      <td>Lead Data Scientist</td>\n",
       "      <td>31</td>\n",
       "      <td>1</td>\n",
       "      <td>1</td>\n",
       "      <td>True</td>\n",
       "    </tr>\n",
       "    <tr>\n",
       "      <th>7</th>\n",
       "      <td>Sr. Data Scientist</td>\n",
       "      <td>28</td>\n",
       "      <td>1</td>\n",
       "      <td>1</td>\n",
       "      <td>True</td>\n",
       "    </tr>\n",
       "    <tr>\n",
       "      <th>8</th>\n",
       "      <td>Principal Data Scientist</td>\n",
       "      <td>24</td>\n",
       "      <td>1</td>\n",
       "      <td>1</td>\n",
       "      <td>True</td>\n",
       "    </tr>\n",
       "    <tr>\n",
       "      <th>...</th>\n",
       "      <td>...</td>\n",
       "      <td>...</td>\n",
       "      <td>...</td>\n",
       "      <td>...</td>\n",
       "      <td>...</td>\n",
       "    </tr>\n",
       "    <tr>\n",
       "      <th>5193</th>\n",
       "      <td>Data Scientist / Machine Learning Engineer - I...</td>\n",
       "      <td>1</td>\n",
       "      <td>1</td>\n",
       "      <td>1</td>\n",
       "      <td>True</td>\n",
       "    </tr>\n",
       "    <tr>\n",
       "      <th>5211</th>\n",
       "      <td>Sr. Data Scientist - Segmentation</td>\n",
       "      <td>1</td>\n",
       "      <td>1</td>\n",
       "      <td>1</td>\n",
       "      <td>True</td>\n",
       "    </tr>\n",
       "    <tr>\n",
       "      <th>5214</th>\n",
       "      <td>Quantitative Analyst / Data Scientist</td>\n",
       "      <td>1</td>\n",
       "      <td>1</td>\n",
       "      <td>1</td>\n",
       "      <td>True</td>\n",
       "    </tr>\n",
       "    <tr>\n",
       "      <th>5215</th>\n",
       "      <td>Data Scientist -Transit</td>\n",
       "      <td>1</td>\n",
       "      <td>1</td>\n",
       "      <td>1</td>\n",
       "      <td>True</td>\n",
       "    </tr>\n",
       "    <tr>\n",
       "      <th>5221</th>\n",
       "      <td>Senior Data Scientist - Healthcare Analytics &amp;...</td>\n",
       "      <td>1</td>\n",
       "      <td>1</td>\n",
       "      <td>1</td>\n",
       "      <td>True</td>\n",
       "    </tr>\n",
       "  </tbody>\n",
       "</table>\n",
       "<p>444 rows × 5 columns</p>\n",
       "</div>"
      ]
     },
     "metadata": {},
     "execution_count": 128
    }
   ],
   "metadata": {
    "collapsed": true
   }
  },
  {
   "cell_type": "code",
   "execution_count": 129,
   "source": [
    "positions[positions['has_data_scientist_word'] == 1]"
   ],
   "outputs": [
    {
     "output_type": "execute_result",
     "data": {
      "text/plain": [
       "                                               position  quantity  \\\n",
       "0                                        Data Scientist       351   \n",
       "1                                 Senior Data Scientist        96   \n",
       "5                                   Lead Data Scientist        31   \n",
       "7                                    Sr. Data Scientist        28   \n",
       "8                              Principal Data Scientist        24   \n",
       "...                                                 ...       ...   \n",
       "5193  Data Scientist / Machine Learning Engineer - I...         1   \n",
       "5211                  Sr. Data Scientist - Segmentation         1   \n",
       "5214              Quantitative Analyst / Data Scientist         1   \n",
       "5215                            Data Scientist -Transit         1   \n",
       "5221  Senior Data Scientist - Healthcare Analytics &...         1   \n",
       "\n",
       "      has_data_word  has_scientist_word  has_data_scientist_word  \n",
       "0                 1                   1                     True  \n",
       "1                 1                   1                     True  \n",
       "5                 1                   1                     True  \n",
       "7                 1                   1                     True  \n",
       "8                 1                   1                     True  \n",
       "...             ...                 ...                      ...  \n",
       "5193              1                   1                     True  \n",
       "5211              1                   1                     True  \n",
       "5214              1                   1                     True  \n",
       "5215              1                   1                     True  \n",
       "5221              1                   1                     True  \n",
       "\n",
       "[444 rows x 5 columns]"
      ],
      "text/html": [
       "<div>\n",
       "<style scoped>\n",
       "    .dataframe tbody tr th:only-of-type {\n",
       "        vertical-align: middle;\n",
       "    }\n",
       "\n",
       "    .dataframe tbody tr th {\n",
       "        vertical-align: top;\n",
       "    }\n",
       "\n",
       "    .dataframe thead th {\n",
       "        text-align: right;\n",
       "    }\n",
       "</style>\n",
       "<table border=\"1\" class=\"dataframe\">\n",
       "  <thead>\n",
       "    <tr style=\"text-align: right;\">\n",
       "      <th></th>\n",
       "      <th>position</th>\n",
       "      <th>quantity</th>\n",
       "      <th>has_data_word</th>\n",
       "      <th>has_scientist_word</th>\n",
       "      <th>has_data_scientist_word</th>\n",
       "    </tr>\n",
       "  </thead>\n",
       "  <tbody>\n",
       "    <tr>\n",
       "      <th>0</th>\n",
       "      <td>Data Scientist</td>\n",
       "      <td>351</td>\n",
       "      <td>1</td>\n",
       "      <td>1</td>\n",
       "      <td>True</td>\n",
       "    </tr>\n",
       "    <tr>\n",
       "      <th>1</th>\n",
       "      <td>Senior Data Scientist</td>\n",
       "      <td>96</td>\n",
       "      <td>1</td>\n",
       "      <td>1</td>\n",
       "      <td>True</td>\n",
       "    </tr>\n",
       "    <tr>\n",
       "      <th>5</th>\n",
       "      <td>Lead Data Scientist</td>\n",
       "      <td>31</td>\n",
       "      <td>1</td>\n",
       "      <td>1</td>\n",
       "      <td>True</td>\n",
       "    </tr>\n",
       "    <tr>\n",
       "      <th>7</th>\n",
       "      <td>Sr. Data Scientist</td>\n",
       "      <td>28</td>\n",
       "      <td>1</td>\n",
       "      <td>1</td>\n",
       "      <td>True</td>\n",
       "    </tr>\n",
       "    <tr>\n",
       "      <th>8</th>\n",
       "      <td>Principal Data Scientist</td>\n",
       "      <td>24</td>\n",
       "      <td>1</td>\n",
       "      <td>1</td>\n",
       "      <td>True</td>\n",
       "    </tr>\n",
       "    <tr>\n",
       "      <th>...</th>\n",
       "      <td>...</td>\n",
       "      <td>...</td>\n",
       "      <td>...</td>\n",
       "      <td>...</td>\n",
       "      <td>...</td>\n",
       "    </tr>\n",
       "    <tr>\n",
       "      <th>5193</th>\n",
       "      <td>Data Scientist / Machine Learning Engineer - I...</td>\n",
       "      <td>1</td>\n",
       "      <td>1</td>\n",
       "      <td>1</td>\n",
       "      <td>True</td>\n",
       "    </tr>\n",
       "    <tr>\n",
       "      <th>5211</th>\n",
       "      <td>Sr. Data Scientist - Segmentation</td>\n",
       "      <td>1</td>\n",
       "      <td>1</td>\n",
       "      <td>1</td>\n",
       "      <td>True</td>\n",
       "    </tr>\n",
       "    <tr>\n",
       "      <th>5214</th>\n",
       "      <td>Quantitative Analyst / Data Scientist</td>\n",
       "      <td>1</td>\n",
       "      <td>1</td>\n",
       "      <td>1</td>\n",
       "      <td>True</td>\n",
       "    </tr>\n",
       "    <tr>\n",
       "      <th>5215</th>\n",
       "      <td>Data Scientist -Transit</td>\n",
       "      <td>1</td>\n",
       "      <td>1</td>\n",
       "      <td>1</td>\n",
       "      <td>True</td>\n",
       "    </tr>\n",
       "    <tr>\n",
       "      <th>5221</th>\n",
       "      <td>Senior Data Scientist - Healthcare Analytics &amp;...</td>\n",
       "      <td>1</td>\n",
       "      <td>1</td>\n",
       "      <td>1</td>\n",
       "      <td>True</td>\n",
       "    </tr>\n",
       "  </tbody>\n",
       "</table>\n",
       "<p>444 rows × 5 columns</p>\n",
       "</div>"
      ]
     },
     "metadata": {},
     "execution_count": 129
    }
   ],
   "metadata": {
    "collapsed": true
   }
  },
  {
   "cell_type": "code",
   "execution_count": 135,
   "source": [
    "positions[positions['has_data_scientist_word'] ==0]"
   ],
   "outputs": [
    {
     "output_type": "execute_result",
     "data": {
      "text/plain": [
       "                                               position  quantity  \\\n",
       "2                                      Research Analyst        64   \n",
       "3                                         Data Engineer        60   \n",
       "4                             Machine Learning Engineer        56   \n",
       "6                                    Research Scientist        30   \n",
       "9                                     Software Engineer        22   \n",
       "...                                                 ...       ...   \n",
       "5237              Academic Program Management Officer 4         1   \n",
       "5238         Associate Scientist I, Veterinary Services         1   \n",
       "5239   Lead Data Analyst - Digital Test and Measurement         1   \n",
       "5240  Lecturer - Sutardja Center for Entrepreneurshi...         1   \n",
       "5241                                  CDx Sr. Scientist         1   \n",
       "\n",
       "      has_data_word  has_scientist_word  has_data_scientist_word  \n",
       "2                 0                   0                    False  \n",
       "3                 1                   0                    False  \n",
       "4                 0                   0                    False  \n",
       "6                 0                   1                    False  \n",
       "9                 0                   0                    False  \n",
       "...             ...                 ...                      ...  \n",
       "5237              0                   0                    False  \n",
       "5238              0                   1                    False  \n",
       "5239              1                   0                    False  \n",
       "5240              0                   0                    False  \n",
       "5241              0                   1                    False  \n",
       "\n",
       "[4798 rows x 5 columns]"
      ],
      "text/html": [
       "<div>\n",
       "<style scoped>\n",
       "    .dataframe tbody tr th:only-of-type {\n",
       "        vertical-align: middle;\n",
       "    }\n",
       "\n",
       "    .dataframe tbody tr th {\n",
       "        vertical-align: top;\n",
       "    }\n",
       "\n",
       "    .dataframe thead th {\n",
       "        text-align: right;\n",
       "    }\n",
       "</style>\n",
       "<table border=\"1\" class=\"dataframe\">\n",
       "  <thead>\n",
       "    <tr style=\"text-align: right;\">\n",
       "      <th></th>\n",
       "      <th>position</th>\n",
       "      <th>quantity</th>\n",
       "      <th>has_data_word</th>\n",
       "      <th>has_scientist_word</th>\n",
       "      <th>has_data_scientist_word</th>\n",
       "    </tr>\n",
       "  </thead>\n",
       "  <tbody>\n",
       "    <tr>\n",
       "      <th>2</th>\n",
       "      <td>Research Analyst</td>\n",
       "      <td>64</td>\n",
       "      <td>0</td>\n",
       "      <td>0</td>\n",
       "      <td>False</td>\n",
       "    </tr>\n",
       "    <tr>\n",
       "      <th>3</th>\n",
       "      <td>Data Engineer</td>\n",
       "      <td>60</td>\n",
       "      <td>1</td>\n",
       "      <td>0</td>\n",
       "      <td>False</td>\n",
       "    </tr>\n",
       "    <tr>\n",
       "      <th>4</th>\n",
       "      <td>Machine Learning Engineer</td>\n",
       "      <td>56</td>\n",
       "      <td>0</td>\n",
       "      <td>0</td>\n",
       "      <td>False</td>\n",
       "    </tr>\n",
       "    <tr>\n",
       "      <th>6</th>\n",
       "      <td>Research Scientist</td>\n",
       "      <td>30</td>\n",
       "      <td>0</td>\n",
       "      <td>1</td>\n",
       "      <td>False</td>\n",
       "    </tr>\n",
       "    <tr>\n",
       "      <th>9</th>\n",
       "      <td>Software Engineer</td>\n",
       "      <td>22</td>\n",
       "      <td>0</td>\n",
       "      <td>0</td>\n",
       "      <td>False</td>\n",
       "    </tr>\n",
       "    <tr>\n",
       "      <th>...</th>\n",
       "      <td>...</td>\n",
       "      <td>...</td>\n",
       "      <td>...</td>\n",
       "      <td>...</td>\n",
       "      <td>...</td>\n",
       "    </tr>\n",
       "    <tr>\n",
       "      <th>5237</th>\n",
       "      <td>Academic Program Management Officer 4</td>\n",
       "      <td>1</td>\n",
       "      <td>0</td>\n",
       "      <td>0</td>\n",
       "      <td>False</td>\n",
       "    </tr>\n",
       "    <tr>\n",
       "      <th>5238</th>\n",
       "      <td>Associate Scientist I, Veterinary Services</td>\n",
       "      <td>1</td>\n",
       "      <td>0</td>\n",
       "      <td>1</td>\n",
       "      <td>False</td>\n",
       "    </tr>\n",
       "    <tr>\n",
       "      <th>5239</th>\n",
       "      <td>Lead Data Analyst - Digital Test and Measurement</td>\n",
       "      <td>1</td>\n",
       "      <td>1</td>\n",
       "      <td>0</td>\n",
       "      <td>False</td>\n",
       "    </tr>\n",
       "    <tr>\n",
       "      <th>5240</th>\n",
       "      <td>Lecturer - Sutardja Center for Entrepreneurshi...</td>\n",
       "      <td>1</td>\n",
       "      <td>0</td>\n",
       "      <td>0</td>\n",
       "      <td>False</td>\n",
       "    </tr>\n",
       "    <tr>\n",
       "      <th>5241</th>\n",
       "      <td>CDx Sr. Scientist</td>\n",
       "      <td>1</td>\n",
       "      <td>0</td>\n",
       "      <td>1</td>\n",
       "      <td>False</td>\n",
       "    </tr>\n",
       "  </tbody>\n",
       "</table>\n",
       "<p>4798 rows × 5 columns</p>\n",
       "</div>"
      ]
     },
     "metadata": {},
     "execution_count": 135
    }
   ],
   "metadata": {
    "collapsed": true
   }
  },
  {
   "cell_type": "markdown",
   "source": [
    "# Questions\n",
    "\n",
    "1. Are there any positions which use the word 'data' more than once?"
   ],
   "metadata": {}
  },
  {
   "cell_type": "markdown",
   "source": [
    "# Draft"
   ],
   "metadata": {}
  },
  {
   "cell_type": "code",
   "execution_count": 139,
   "source": [
    "np.array([1,2,3])*np.array([x not in [1,2] for x in [1,2,3]])"
   ],
   "outputs": [
    {
     "output_type": "execute_result",
     "data": {
      "text/plain": [
       "array([0, 0, 3])"
      ]
     },
     "metadata": {},
     "execution_count": 139
    }
   ],
   "metadata": {}
  },
  {
   "cell_type": "code",
   "execution_count": 141,
   "source": [
    "for el in [1,2,3]:\r\n",
    "    if el in [1,2]:\r\n",
    "        continue\r\n",
    "    print(el)\r\n",
    "        "
   ],
   "outputs": [
    {
     "output_type": "stream",
     "name": "stdout",
     "text": [
      "3\n"
     ]
    }
   ],
   "metadata": {}
  },
  {
   "cell_type": "code",
   "execution_count": 146,
   "source": [
    "''.join([el for el in 'abcdef' if el not in 'ab'])"
   ],
   "outputs": [
    {
     "output_type": "execute_result",
     "data": {
      "text/plain": [
       "'cdef'"
      ]
     },
     "metadata": {},
     "execution_count": 146
    }
   ],
   "metadata": {}
  },
  {
   "cell_type": "code",
   "execution_count": 77,
   "source": [
    "# mask = np.zeros(4)\r\n",
    "# positions['position']*"
   ],
   "outputs": [],
   "metadata": {}
  },
  {
   "cell_type": "code",
   "execution_count": 102,
   "source": [
    "# all([x in ['data', 'science', 'engineer'] for x in ['data', 'science']])\r\n",
    "all([x in ['data', 'x', 'engineer'] for x in ['data', 'science']])"
   ],
   "outputs": [
    {
     "output_type": "execute_result",
     "data": {
      "text/plain": [
       "False"
      ]
     },
     "metadata": {},
     "execution_count": 102
    }
   ],
   "metadata": {}
  },
  {
   "cell_type": "code",
   "execution_count": null,
   "source": [],
   "outputs": [],
   "metadata": {}
  }
 ],
 "metadata": {
  "kernelspec": {
   "name": "python3",
   "display_name": "Python 3.8.11 64-bit ('geo2': conda)"
  },
  "language_info": {
   "codemirror_mode": {
    "name": "ipython",
    "version": 3
   },
   "file_extension": ".py",
   "mimetype": "text/x-python",
   "name": "python",
   "nbconvert_exporter": "python",
   "pygments_lexer": "ipython3",
   "version": "3.8.11"
  },
  "interpreter": {
   "hash": "0b9809211ed7b59a8b7b289bf21ece8a63c3cffcdf70ebdca06851ebba201e7f"
  }
 },
 "nbformat": 4,
 "nbformat_minor": 5
}